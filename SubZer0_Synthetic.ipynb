{
  "cells": [
    {
      "attachments": {},
      "cell_type": "markdown",
      "metadata": {
        "id": "GuugpWWTwTuD"
      },
      "source": [
        "### Install & import"
      ]
    },
    {
      "cell_type": "code",
      "execution_count": null,
      "metadata": {
        "colab": {
          "background_save": true,
          "base_uri": "https://localhost:8080/"
        },
        "id": "AATY7Vr2wJSW",
        "outputId": "d1186528-d423-484f-ddd6-be237008fef6"
      },
      "outputs": [
        {
          "name": "stdout",
          "output_type": "stream",
          "text": [
            "Looking in indexes: https://pypi.org/simple, https://us-python.pkg.dev/colab-wheels/public/simple/\n",
            "Requirement already satisfied: langchain in /usr/local/lib/python3.10/dist-packages (0.0.169)\n",
            "Requirement already satisfied: PyYAML>=5.4.1 in /usr/local/lib/python3.10/dist-packages (from langchain) (6.0)\n",
            "Requirement already satisfied: SQLAlchemy<3,>=1.4 in /usr/local/lib/python3.10/dist-packages (from langchain) (2.0.10)\n",
            "Requirement already satisfied: aiohttp<4.0.0,>=3.8.3 in /usr/local/lib/python3.10/dist-packages (from langchain) (3.8.4)\n",
            "Requirement already satisfied: async-timeout<5.0.0,>=4.0.0 in /usr/local/lib/python3.10/dist-packages (from langchain) (4.0.2)\n",
            "Requirement already satisfied: dataclasses-json<0.6.0,>=0.5.7 in /usr/local/lib/python3.10/dist-packages (from langchain) (0.5.7)\n",
            "Requirement already satisfied: numexpr<3.0.0,>=2.8.4 in /usr/local/lib/python3.10/dist-packages (from langchain) (2.8.4)\n",
            "Requirement already satisfied: numpy<2,>=1 in /usr/local/lib/python3.10/dist-packages (from langchain) (1.22.4)\n",
            "Requirement already satisfied: openapi-schema-pydantic<2.0,>=1.2 in /usr/local/lib/python3.10/dist-packages (from langchain) (1.2.4)\n",
            "Requirement already satisfied: pydantic<2,>=1 in /usr/local/lib/python3.10/dist-packages (from langchain) (1.10.7)\n",
            "Requirement already satisfied: requests<3,>=2 in /usr/local/lib/python3.10/dist-packages (from langchain) (2.27.1)\n",
            "Requirement already satisfied: tenacity<9.0.0,>=8.1.0 in /usr/local/lib/python3.10/dist-packages (from langchain) (8.2.2)\n",
            "Requirement already satisfied: attrs>=17.3.0 in /usr/local/lib/python3.10/dist-packages (from aiohttp<4.0.0,>=3.8.3->langchain) (23.1.0)\n",
            "Requirement already satisfied: charset-normalizer<4.0,>=2.0 in /usr/local/lib/python3.10/dist-packages (from aiohttp<4.0.0,>=3.8.3->langchain) (2.0.12)\n",
            "Requirement already satisfied: multidict<7.0,>=4.5 in /usr/local/lib/python3.10/dist-packages (from aiohttp<4.0.0,>=3.8.3->langchain) (6.0.4)\n",
            "Requirement already satisfied: yarl<2.0,>=1.0 in /usr/local/lib/python3.10/dist-packages (from aiohttp<4.0.0,>=3.8.3->langchain) (1.9.2)\n",
            "Requirement already satisfied: frozenlist>=1.1.1 in /usr/local/lib/python3.10/dist-packages (from aiohttp<4.0.0,>=3.8.3->langchain) (1.3.3)\n",
            "Requirement already satisfied: aiosignal>=1.1.2 in /usr/local/lib/python3.10/dist-packages (from aiohttp<4.0.0,>=3.8.3->langchain) (1.3.1)\n",
            "Requirement already satisfied: marshmallow<4.0.0,>=3.3.0 in /usr/local/lib/python3.10/dist-packages (from dataclasses-json<0.6.0,>=0.5.7->langchain) (3.19.0)\n",
            "Requirement already satisfied: marshmallow-enum<2.0.0,>=1.5.1 in /usr/local/lib/python3.10/dist-packages (from dataclasses-json<0.6.0,>=0.5.7->langchain) (1.5.1)\n",
            "Requirement already satisfied: typing-inspect>=0.4.0 in /usr/local/lib/python3.10/dist-packages (from dataclasses-json<0.6.0,>=0.5.7->langchain) (0.8.0)\n",
            "Requirement already satisfied: typing-extensions>=4.2.0 in /usr/local/lib/python3.10/dist-packages (from pydantic<2,>=1->langchain) (4.5.0)\n",
            "Requirement already satisfied: urllib3<1.27,>=1.21.1 in /usr/local/lib/python3.10/dist-packages (from requests<3,>=2->langchain) (1.26.15)\n",
            "Requirement already satisfied: certifi>=2017.4.17 in /usr/local/lib/python3.10/dist-packages (from requests<3,>=2->langchain) (2022.12.7)\n",
            "Requirement already satisfied: idna<4,>=2.5 in /usr/local/lib/python3.10/dist-packages (from requests<3,>=2->langchain) (3.4)\n",
            "Requirement already satisfied: greenlet!=0.4.17 in /usr/local/lib/python3.10/dist-packages (from SQLAlchemy<3,>=1.4->langchain) (2.0.2)\n",
            "Requirement already satisfied: packaging>=17.0 in /usr/local/lib/python3.10/dist-packages (from marshmallow<4.0.0,>=3.3.0->dataclasses-json<0.6.0,>=0.5.7->langchain) (23.1)\n",
            "Requirement already satisfied: mypy-extensions>=0.3.0 in /usr/local/lib/python3.10/dist-packages (from typing-inspect>=0.4.0->dataclasses-json<0.6.0,>=0.5.7->langchain) (1.0.0)\n",
            "Looking in indexes: https://pypi.org/simple, https://us-python.pkg.dev/colab-wheels/public/simple/\n",
            "Requirement already satisfied: openai in /usr/local/lib/python3.10/dist-packages (0.27.6)\n",
            "Requirement already satisfied: requests>=2.20 in /usr/local/lib/python3.10/dist-packages (from openai) (2.27.1)\n",
            "Requirement already satisfied: tqdm in /usr/local/lib/python3.10/dist-packages (from openai) (4.65.0)\n",
            "Requirement already satisfied: aiohttp in /usr/local/lib/python3.10/dist-packages (from openai) (3.8.4)\n",
            "Requirement already satisfied: urllib3<1.27,>=1.21.1 in /usr/local/lib/python3.10/dist-packages (from requests>=2.20->openai) (1.26.15)\n",
            "Requirement already satisfied: certifi>=2017.4.17 in /usr/local/lib/python3.10/dist-packages (from requests>=2.20->openai) (2022.12.7)\n",
            "Requirement already satisfied: charset-normalizer~=2.0.0 in /usr/local/lib/python3.10/dist-packages (from requests>=2.20->openai) (2.0.12)\n",
            "Requirement already satisfied: idna<4,>=2.5 in /usr/local/lib/python3.10/dist-packages (from requests>=2.20->openai) (3.4)\n",
            "Requirement already satisfied: attrs>=17.3.0 in /usr/local/lib/python3.10/dist-packages (from aiohttp->openai) (23.1.0)\n",
            "Requirement already satisfied: multidict<7.0,>=4.5 in /usr/local/lib/python3.10/dist-packages (from aiohttp->openai) (6.0.4)\n",
            "Requirement already satisfied: async-timeout<5.0,>=4.0.0a3 in /usr/local/lib/python3.10/dist-packages (from aiohttp->openai) (4.0.2)\n",
            "Requirement already satisfied: yarl<2.0,>=1.0 in /usr/local/lib/python3.10/dist-packages (from aiohttp->openai) (1.9.2)\n",
            "Requirement already satisfied: frozenlist>=1.1.1 in /usr/local/lib/python3.10/dist-packages (from aiohttp->openai) (1.3.3)\n",
            "Requirement already satisfied: aiosignal>=1.1.2 in /usr/local/lib/python3.10/dist-packages (from aiohttp->openai) (1.3.1)\n"
          ]
        }
      ],
      "source": [
        "%pip install langchain\n",
        "%pip install openai"
      ]
    },
    {
      "cell_type": "code",
      "execution_count": null,
      "metadata": {
        "id": "R_VP0PyzyA87"
      },
      "outputs": [],
      "source": [
        "import pandas as pd\n",
        "from langchain.llms import OpenAI\n",
        "from langchain.agents import create_csv_agent, create_pandas_dataframe_agent\n",
        "from langchain.memory import ConversationBufferMemory, ReadOnlySharedMemory"
      ]
    },
    {
      "attachments": {},
      "cell_type": "markdown",
      "metadata": {
        "id": "7GtEvKqZw1RE"
      },
      "source": [
        "### OpenAI login"
      ]
    },
    {
      "cell_type": "code",
      "execution_count": null,
      "metadata": {
        "colab": {
          "base_uri": "https://localhost:8080/"
        },
        "id": "3h6NOlIXwsZZ",
        "outputId": "a5eaa390-8e80-411b-b8fa-bcb9b80f4743"
      },
      "outputs": [
        {
          "name": "stdout",
          "output_type": "stream",
          "text": [
            "OpenAI API key:··········\n"
          ]
        }
      ],
      "source": [
        "import getpass\n",
        "pswd = getpass.getpass('OpenAI API key:')"
      ]
    },
    {
      "attachments": {},
      "cell_type": "markdown",
      "metadata": {
        "id": "tssh2L32w9qN"
      },
      "source": [
        "### Load CSV files"
      ]
    },
    {
      "cell_type": "code",
      "execution_count": null,
      "metadata": {
        "colab": {
          "base_uri": "https://localhost:8080/",
          "height": 69
        },
        "id": "Xh0vl4fsxQsZ",
        "outputId": "7d06c601-7001-4ca2-f8e2-449c188a1811"
      },
      "outputs": [
        {
          "data": {
            "text/html": [
              "\n",
              "     <input type=\"file\" id=\"files-4010d39f-9b61-4e29-b66a-0958f8a82a01\" name=\"files[]\" multiple disabled\n",
              "        style=\"border:none\" />\n",
              "     <output id=\"result-4010d39f-9b61-4e29-b66a-0958f8a82a01\">\n",
              "      Upload widget is only available when the cell has been executed in the\n",
              "      current browser session. Please rerun this cell to enable.\n",
              "      </output>\n",
              "      <script>// Copyright 2017 Google LLC\n",
              "//\n",
              "// Licensed under the Apache License, Version 2.0 (the \"License\");\n",
              "// you may not use this file except in compliance with the License.\n",
              "// You may obtain a copy of the License at\n",
              "//\n",
              "//      http://www.apache.org/licenses/LICENSE-2.0\n",
              "//\n",
              "// Unless required by applicable law or agreed to in writing, software\n",
              "// distributed under the License is distributed on an \"AS IS\" BASIS,\n",
              "// WITHOUT WARRANTIES OR CONDITIONS OF ANY KIND, either express or implied.\n",
              "// See the License for the specific language governing permissions and\n",
              "// limitations under the License.\n",
              "\n",
              "/**\n",
              " * @fileoverview Helpers for google.colab Python module.\n",
              " */\n",
              "(function(scope) {\n",
              "function span(text, styleAttributes = {}) {\n",
              "  const element = document.createElement('span');\n",
              "  element.textContent = text;\n",
              "  for (const key of Object.keys(styleAttributes)) {\n",
              "    element.style[key] = styleAttributes[key];\n",
              "  }\n",
              "  return element;\n",
              "}\n",
              "\n",
              "// Max number of bytes which will be uploaded at a time.\n",
              "const MAX_PAYLOAD_SIZE = 100 * 1024;\n",
              "\n",
              "function _uploadFiles(inputId, outputId) {\n",
              "  const steps = uploadFilesStep(inputId, outputId);\n",
              "  const outputElement = document.getElementById(outputId);\n",
              "  // Cache steps on the outputElement to make it available for the next call\n",
              "  // to uploadFilesContinue from Python.\n",
              "  outputElement.steps = steps;\n",
              "\n",
              "  return _uploadFilesContinue(outputId);\n",
              "}\n",
              "\n",
              "// This is roughly an async generator (not supported in the browser yet),\n",
              "// where there are multiple asynchronous steps and the Python side is going\n",
              "// to poll for completion of each step.\n",
              "// This uses a Promise to block the python side on completion of each step,\n",
              "// then passes the result of the previous step as the input to the next step.\n",
              "function _uploadFilesContinue(outputId) {\n",
              "  const outputElement = document.getElementById(outputId);\n",
              "  const steps = outputElement.steps;\n",
              "\n",
              "  const next = steps.next(outputElement.lastPromiseValue);\n",
              "  return Promise.resolve(next.value.promise).then((value) => {\n",
              "    // Cache the last promise value to make it available to the next\n",
              "    // step of the generator.\n",
              "    outputElement.lastPromiseValue = value;\n",
              "    return next.value.response;\n",
              "  });\n",
              "}\n",
              "\n",
              "/**\n",
              " * Generator function which is called between each async step of the upload\n",
              " * process.\n",
              " * @param {string} inputId Element ID of the input file picker element.\n",
              " * @param {string} outputId Element ID of the output display.\n",
              " * @return {!Iterable<!Object>} Iterable of next steps.\n",
              " */\n",
              "function* uploadFilesStep(inputId, outputId) {\n",
              "  const inputElement = document.getElementById(inputId);\n",
              "  inputElement.disabled = false;\n",
              "\n",
              "  const outputElement = document.getElementById(outputId);\n",
              "  outputElement.innerHTML = '';\n",
              "\n",
              "  const pickedPromise = new Promise((resolve) => {\n",
              "    inputElement.addEventListener('change', (e) => {\n",
              "      resolve(e.target.files);\n",
              "    });\n",
              "  });\n",
              "\n",
              "  const cancel = document.createElement('button');\n",
              "  inputElement.parentElement.appendChild(cancel);\n",
              "  cancel.textContent = 'Cancel upload';\n",
              "  const cancelPromise = new Promise((resolve) => {\n",
              "    cancel.onclick = () => {\n",
              "      resolve(null);\n",
              "    };\n",
              "  });\n",
              "\n",
              "  // Wait for the user to pick the files.\n",
              "  const files = yield {\n",
              "    promise: Promise.race([pickedPromise, cancelPromise]),\n",
              "    response: {\n",
              "      action: 'starting',\n",
              "    }\n",
              "  };\n",
              "\n",
              "  cancel.remove();\n",
              "\n",
              "  // Disable the input element since further picks are not allowed.\n",
              "  inputElement.disabled = true;\n",
              "\n",
              "  if (!files) {\n",
              "    return {\n",
              "      response: {\n",
              "        action: 'complete',\n",
              "      }\n",
              "    };\n",
              "  }\n",
              "\n",
              "  for (const file of files) {\n",
              "    const li = document.createElement('li');\n",
              "    li.append(span(file.name, {fontWeight: 'bold'}));\n",
              "    li.append(span(\n",
              "        `(${file.type || 'n/a'}) - ${file.size} bytes, ` +\n",
              "        `last modified: ${\n",
              "            file.lastModifiedDate ? file.lastModifiedDate.toLocaleDateString() :\n",
              "                                    'n/a'} - `));\n",
              "    const percent = span('0% done');\n",
              "    li.appendChild(percent);\n",
              "\n",
              "    outputElement.appendChild(li);\n",
              "\n",
              "    const fileDataPromise = new Promise((resolve) => {\n",
              "      const reader = new FileReader();\n",
              "      reader.onload = (e) => {\n",
              "        resolve(e.target.result);\n",
              "      };\n",
              "      reader.readAsArrayBuffer(file);\n",
              "    });\n",
              "    // Wait for the data to be ready.\n",
              "    let fileData = yield {\n",
              "      promise: fileDataPromise,\n",
              "      response: {\n",
              "        action: 'continue',\n",
              "      }\n",
              "    };\n",
              "\n",
              "    // Use a chunked sending to avoid message size limits. See b/62115660.\n",
              "    let position = 0;\n",
              "    do {\n",
              "      const length = Math.min(fileData.byteLength - position, MAX_PAYLOAD_SIZE);\n",
              "      const chunk = new Uint8Array(fileData, position, length);\n",
              "      position += length;\n",
              "\n",
              "      const base64 = btoa(String.fromCharCode.apply(null, chunk));\n",
              "      yield {\n",
              "        response: {\n",
              "          action: 'append',\n",
              "          file: file.name,\n",
              "          data: base64,\n",
              "        },\n",
              "      };\n",
              "\n",
              "      let percentDone = fileData.byteLength === 0 ?\n",
              "          100 :\n",
              "          Math.round((position / fileData.byteLength) * 100);\n",
              "      percent.textContent = `${percentDone}% done`;\n",
              "\n",
              "    } while (position < fileData.byteLength);\n",
              "  }\n",
              "\n",
              "  // All done.\n",
              "  yield {\n",
              "    response: {\n",
              "      action: 'complete',\n",
              "    }\n",
              "  };\n",
              "}\n",
              "\n",
              "scope.google = scope.google || {};\n",
              "scope.google.colab = scope.google.colab || {};\n",
              "scope.google.colab._files = {\n",
              "  _uploadFiles,\n",
              "  _uploadFilesContinue,\n",
              "};\n",
              "})(self);\n",
              "</script> "
            ],
            "text/plain": [
              "<IPython.core.display.HTML object>"
            ]
          },
          "metadata": {},
          "output_type": "display_data"
        },
        {
          "name": "stdout",
          "output_type": "stream",
          "text": [
            "Saving table_A.csv to table_A.csv\n"
          ]
        }
      ],
      "source": [
        "# table_A.csv\n",
        "from google.colab import files\n",
        "upload = files.upload()"
      ]
    },
    {
      "attachments": {},
      "cell_type": "markdown",
      "metadata": {
        "id": "HYtaO3G1y2B6"
      },
      "source": [
        "### Generate a synthetic example\n"
      ]
    },
    {
      "cell_type": "code",
      "execution_count": null,
      "metadata": {
        "id": "LZNIxva7xG4U"
      },
      "outputs": [],
      "source": [
        "agent = create_csv_agent(OpenAI(temperature=0, openai_api_key=pswd, model_name=\"text-davinci-003\", max_tokens=2000), 'table_A.csv', verbose=True)"
      ]
    },
    {
      "cell_type": "code",
      "execution_count": null,
      "metadata": {
        "colab": {
          "base_uri": "https://localhost:8080/",
          "height": 528
        },
        "id": "9rbh9Ia4y_1e",
        "outputId": "8d08c065-3f86-4639-f480-4da64bcc5d6c"
      },
      "outputs": [
        {
          "name": "stdout",
          "output_type": "stream",
          "text": [
            "\n",
            "\n",
            "\u001b[1m> Entering new AgentExecutor chain...\u001b[0m\n",
            "\u001b[32;1m\u001b[1;3mThought: I need to generate random data for each column\n",
            "Action: python_repl_ast\n",
            "Action Input: \n",
            "import pandas as pd\n",
            "import numpy as np\n",
            "\n",
            "df = pd.DataFrame({\n",
            "    'Date_of_Policy': np.random.choice(pd.date_range('2021-01-01', '2025-12-31'), size=10),\n",
            "    'FullName': np.random.choice(['John Doe', 'Jane Smith', 'Michael Brown', 'Alice Johnson', 'Bob Wilson'], size=10),\n",
            "    'Insurance_Plan': np.random.choice(['Gold Plan', 'Silver Plan', 'Bronze Plan'], size=10),\n",
            "    'Policy_No': np.random.choice(['AB-12345', 'CD-67890', 'EF-10111', 'GH-12121', 'IJ-13131'], size=10),\n",
            "    'Monthly_Premium': np.random.choice([150, 100, 50], size=10),\n",
            "    'Department': np.random.choice(['IT', 'HR', 'Marketing', 'Finance', 'Sales'], size=10),\n",
            "    'JobTitle': np.random.choice(['Software Engineer', 'HR Manager', 'Marketing Coordinator', 'Financial Analyst', 'Sales Executive'], size=10),\n",
            "    'Policy_Start': np.random.choice(pd.date_range('2021-01-01', '2025-12-31'), size=10),\n",
            "    'Full_Name': np.random.choice(['John Doe', 'Jane Smith', 'Michael Brown', 'Alice Johnson', 'Bob Wilson'], size=10),\n",
            "    'Insurance_Type': np.random.choice(['Gold', 'Silver', 'Bronze'], size=10),\n",
            "    'Policy_Num': np.random.choice(['AB-12345', 'CD-67890', 'EF-10111', 'GH-12121', 'IJ-13131'], size=10),\n",
            "    'Monthly_Cost': np.random.choice([150, 100, 50], size=10)\n",
            "})\n",
            "\u001b[0m\n",
            "Observation: \u001b[36;1m\u001b[1;3m\u001b[0m\n",
            "Thought:\u001b[32;1m\u001b[1;3m I now have a dataframe with synthetic data\n",
            "Final Answer: df\u001b[0m\n",
            "\n",
            "\u001b[1m> Finished chain.\u001b[0m\n"
          ]
        },
        {
          "data": {
            "application/vnd.google.colaboratory.intrinsic+json": {
              "type": "string"
            },
            "text/plain": [
              "'df'"
            ]
          },
          "execution_count": 11,
          "metadata": {},
          "output_type": "execute_result"
        }
      ],
      "source": [
        "agent.run(\"Write code to create a table with the same columns but synthetic data\")"
      ]
    },
    {
      "cell_type": "code",
      "execution_count": null,
      "metadata": {
        "colab": {
          "base_uri": "https://localhost:8080/",
          "height": 359
        },
        "id": "1ppav-qX9UAb",
        "outputId": "9ae29035-ac22-4a17-ecfd-bcdeda840fd6"
      },
      "outputs": [
        {
          "data": {
            "text/html": [
              "\n",
              "  <div id=\"df-ef055c1c-ba1e-4fac-af91-2ffb8a2a28c8\">\n",
              "    <div class=\"colab-df-container\">\n",
              "      <div>\n",
              "<style scoped>\n",
              "    .dataframe tbody tr th:only-of-type {\n",
              "        vertical-align: middle;\n",
              "    }\n",
              "\n",
              "    .dataframe tbody tr th {\n",
              "        vertical-align: top;\n",
              "    }\n",
              "\n",
              "    .dataframe thead th {\n",
              "        text-align: right;\n",
              "    }\n",
              "</style>\n",
              "<table border=\"1\" class=\"dataframe\">\n",
              "  <thead>\n",
              "    <tr style=\"text-align: right;\">\n",
              "      <th></th>\n",
              "      <th>Date_of_Policy</th>\n",
              "      <th>FullName</th>\n",
              "      <th>Insurance_Plan</th>\n",
              "      <th>Policy_No</th>\n",
              "      <th>Monthly_Premium</th>\n",
              "      <th>Department</th>\n",
              "      <th>JobTitle</th>\n",
              "      <th>Policy_Start</th>\n",
              "      <th>Full_Name</th>\n",
              "      <th>Insurance_Type</th>\n",
              "      <th>Policy_Num</th>\n",
              "      <th>Monthly_Cost</th>\n",
              "    </tr>\n",
              "  </thead>\n",
              "  <tbody>\n",
              "    <tr>\n",
              "      <th>0</th>\n",
              "      <td>2024-12-17</td>\n",
              "      <td>John Doe</td>\n",
              "      <td>Silver Plan</td>\n",
              "      <td>EF-10111</td>\n",
              "      <td>50</td>\n",
              "      <td>HR</td>\n",
              "      <td>Software Engineer</td>\n",
              "      <td>2023-08-11</td>\n",
              "      <td>John Doe</td>\n",
              "      <td>Silver</td>\n",
              "      <td>CD-67890</td>\n",
              "      <td>100</td>\n",
              "    </tr>\n",
              "    <tr>\n",
              "      <th>1</th>\n",
              "      <td>2021-08-03</td>\n",
              "      <td>Alice Johnson</td>\n",
              "      <td>Silver Plan</td>\n",
              "      <td>CD-67890</td>\n",
              "      <td>150</td>\n",
              "      <td>Marketing</td>\n",
              "      <td>Software Engineer</td>\n",
              "      <td>2024-11-23</td>\n",
              "      <td>Michael Brown</td>\n",
              "      <td>Bronze</td>\n",
              "      <td>GH-12121</td>\n",
              "      <td>50</td>\n",
              "    </tr>\n",
              "    <tr>\n",
              "      <th>2</th>\n",
              "      <td>2025-10-04</td>\n",
              "      <td>Bob Wilson</td>\n",
              "      <td>Bronze Plan</td>\n",
              "      <td>CD-67890</td>\n",
              "      <td>150</td>\n",
              "      <td>Marketing</td>\n",
              "      <td>Financial Analyst</td>\n",
              "      <td>2021-09-21</td>\n",
              "      <td>Bob Wilson</td>\n",
              "      <td>Bronze</td>\n",
              "      <td>IJ-13131</td>\n",
              "      <td>100</td>\n",
              "    </tr>\n",
              "    <tr>\n",
              "      <th>3</th>\n",
              "      <td>2024-11-21</td>\n",
              "      <td>Michael Brown</td>\n",
              "      <td>Gold Plan</td>\n",
              "      <td>CD-67890</td>\n",
              "      <td>100</td>\n",
              "      <td>IT</td>\n",
              "      <td>Software Engineer</td>\n",
              "      <td>2021-07-30</td>\n",
              "      <td>Bob Wilson</td>\n",
              "      <td>Gold</td>\n",
              "      <td>IJ-13131</td>\n",
              "      <td>150</td>\n",
              "    </tr>\n",
              "    <tr>\n",
              "      <th>4</th>\n",
              "      <td>2025-04-01</td>\n",
              "      <td>Michael Brown</td>\n",
              "      <td>Bronze Plan</td>\n",
              "      <td>CD-67890</td>\n",
              "      <td>150</td>\n",
              "      <td>HR</td>\n",
              "      <td>Sales Executive</td>\n",
              "      <td>2023-03-11</td>\n",
              "      <td>John Doe</td>\n",
              "      <td>Silver</td>\n",
              "      <td>AB-12345</td>\n",
              "      <td>150</td>\n",
              "    </tr>\n",
              "    <tr>\n",
              "      <th>5</th>\n",
              "      <td>2024-07-15</td>\n",
              "      <td>Michael Brown</td>\n",
              "      <td>Gold Plan</td>\n",
              "      <td>AB-12345</td>\n",
              "      <td>100</td>\n",
              "      <td>HR</td>\n",
              "      <td>Sales Executive</td>\n",
              "      <td>2022-12-18</td>\n",
              "      <td>Michael Brown</td>\n",
              "      <td>Bronze</td>\n",
              "      <td>AB-12345</td>\n",
              "      <td>150</td>\n",
              "    </tr>\n",
              "    <tr>\n",
              "      <th>6</th>\n",
              "      <td>2024-08-18</td>\n",
              "      <td>Michael Brown</td>\n",
              "      <td>Gold Plan</td>\n",
              "      <td>AB-12345</td>\n",
              "      <td>100</td>\n",
              "      <td>Marketing</td>\n",
              "      <td>HR Manager</td>\n",
              "      <td>2022-11-05</td>\n",
              "      <td>Bob Wilson</td>\n",
              "      <td>Gold</td>\n",
              "      <td>GH-12121</td>\n",
              "      <td>50</td>\n",
              "    </tr>\n",
              "    <tr>\n",
              "      <th>7</th>\n",
              "      <td>2023-09-18</td>\n",
              "      <td>Jane Smith</td>\n",
              "      <td>Gold Plan</td>\n",
              "      <td>IJ-13131</td>\n",
              "      <td>150</td>\n",
              "      <td>Sales</td>\n",
              "      <td>Sales Executive</td>\n",
              "      <td>2022-11-27</td>\n",
              "      <td>Michael Brown</td>\n",
              "      <td>Bronze</td>\n",
              "      <td>GH-12121</td>\n",
              "      <td>100</td>\n",
              "    </tr>\n",
              "    <tr>\n",
              "      <th>8</th>\n",
              "      <td>2022-12-03</td>\n",
              "      <td>Alice Johnson</td>\n",
              "      <td>Silver Plan</td>\n",
              "      <td>EF-10111</td>\n",
              "      <td>150</td>\n",
              "      <td>Marketing</td>\n",
              "      <td>Financial Analyst</td>\n",
              "      <td>2021-03-11</td>\n",
              "      <td>Michael Brown</td>\n",
              "      <td>Silver</td>\n",
              "      <td>IJ-13131</td>\n",
              "      <td>150</td>\n",
              "    </tr>\n",
              "    <tr>\n",
              "      <th>9</th>\n",
              "      <td>2021-04-13</td>\n",
              "      <td>John Doe</td>\n",
              "      <td>Gold Plan</td>\n",
              "      <td>IJ-13131</td>\n",
              "      <td>150</td>\n",
              "      <td>IT</td>\n",
              "      <td>HR Manager</td>\n",
              "      <td>2025-11-25</td>\n",
              "      <td>Bob Wilson</td>\n",
              "      <td>Gold</td>\n",
              "      <td>CD-67890</td>\n",
              "      <td>100</td>\n",
              "    </tr>\n",
              "  </tbody>\n",
              "</table>\n",
              "</div>\n",
              "      <button class=\"colab-df-convert\" onclick=\"convertToInteractive('df-ef055c1c-ba1e-4fac-af91-2ffb8a2a28c8')\"\n",
              "              title=\"Convert this dataframe to an interactive table.\"\n",
              "              style=\"display:none;\">\n",
              "        \n",
              "  <svg xmlns=\"http://www.w3.org/2000/svg\" height=\"24px\"viewBox=\"0 0 24 24\"\n",
              "       width=\"24px\">\n",
              "    <path d=\"M0 0h24v24H0V0z\" fill=\"none\"/>\n",
              "    <path d=\"M18.56 5.44l.94 2.06.94-2.06 2.06-.94-2.06-.94-.94-2.06-.94 2.06-2.06.94zm-11 1L8.5 8.5l.94-2.06 2.06-.94-2.06-.94L8.5 2.5l-.94 2.06-2.06.94zm10 10l.94 2.06.94-2.06 2.06-.94-2.06-.94-.94-2.06-.94 2.06-2.06.94z\"/><path d=\"M17.41 7.96l-1.37-1.37c-.4-.4-.92-.59-1.43-.59-.52 0-1.04.2-1.43.59L10.3 9.45l-7.72 7.72c-.78.78-.78 2.05 0 2.83L4 21.41c.39.39.9.59 1.41.59.51 0 1.02-.2 1.41-.59l7.78-7.78 2.81-2.81c.8-.78.8-2.07 0-2.86zM5.41 20L4 18.59l7.72-7.72 1.47 1.35L5.41 20z\"/>\n",
              "  </svg>\n",
              "      </button>\n",
              "      \n",
              "  <style>\n",
              "    .colab-df-container {\n",
              "      display:flex;\n",
              "      flex-wrap:wrap;\n",
              "      gap: 12px;\n",
              "    }\n",
              "\n",
              "    .colab-df-convert {\n",
              "      background-color: #E8F0FE;\n",
              "      border: none;\n",
              "      border-radius: 50%;\n",
              "      cursor: pointer;\n",
              "      display: none;\n",
              "      fill: #1967D2;\n",
              "      height: 32px;\n",
              "      padding: 0 0 0 0;\n",
              "      width: 32px;\n",
              "    }\n",
              "\n",
              "    .colab-df-convert:hover {\n",
              "      background-color: #E2EBFA;\n",
              "      box-shadow: 0px 1px 2px rgba(60, 64, 67, 0.3), 0px 1px 3px 1px rgba(60, 64, 67, 0.15);\n",
              "      fill: #174EA6;\n",
              "    }\n",
              "\n",
              "    [theme=dark] .colab-df-convert {\n",
              "      background-color: #3B4455;\n",
              "      fill: #D2E3FC;\n",
              "    }\n",
              "\n",
              "    [theme=dark] .colab-df-convert:hover {\n",
              "      background-color: #434B5C;\n",
              "      box-shadow: 0px 1px 3px 1px rgba(0, 0, 0, 0.15);\n",
              "      filter: drop-shadow(0px 1px 2px rgba(0, 0, 0, 0.3));\n",
              "      fill: #FFFFFF;\n",
              "    }\n",
              "  </style>\n",
              "\n",
              "      <script>\n",
              "        const buttonEl =\n",
              "          document.querySelector('#df-ef055c1c-ba1e-4fac-af91-2ffb8a2a28c8 button.colab-df-convert');\n",
              "        buttonEl.style.display =\n",
              "          google.colab.kernel.accessAllowed ? 'block' : 'none';\n",
              "\n",
              "        async function convertToInteractive(key) {\n",
              "          const element = document.querySelector('#df-ef055c1c-ba1e-4fac-af91-2ffb8a2a28c8');\n",
              "          const dataTable =\n",
              "            await google.colab.kernel.invokeFunction('convertToInteractive',\n",
              "                                                     [key], {});\n",
              "          if (!dataTable) return;\n",
              "\n",
              "          const docLinkHtml = 'Like what you see? Visit the ' +\n",
              "            '<a target=\"_blank\" href=https://colab.research.google.com/notebooks/data_table.ipynb>data table notebook</a>'\n",
              "            + ' to learn more about interactive tables.';\n",
              "          element.innerHTML = '';\n",
              "          dataTable['output_type'] = 'display_data';\n",
              "          await google.colab.output.renderOutput(dataTable, element);\n",
              "          const docLink = document.createElement('div');\n",
              "          docLink.innerHTML = docLinkHtml;\n",
              "          element.appendChild(docLink);\n",
              "        }\n",
              "      </script>\n",
              "    </div>\n",
              "  </div>\n",
              "  "
            ],
            "text/plain": [
              "  Date_of_Policy       FullName Insurance_Plan Policy_No  Monthly_Premium  \\\n",
              "0     2024-12-17       John Doe    Silver Plan  EF-10111               50   \n",
              "1     2021-08-03  Alice Johnson    Silver Plan  CD-67890              150   \n",
              "2     2025-10-04     Bob Wilson    Bronze Plan  CD-67890              150   \n",
              "3     2024-11-21  Michael Brown      Gold Plan  CD-67890              100   \n",
              "4     2025-04-01  Michael Brown    Bronze Plan  CD-67890              150   \n",
              "5     2024-07-15  Michael Brown      Gold Plan  AB-12345              100   \n",
              "6     2024-08-18  Michael Brown      Gold Plan  AB-12345              100   \n",
              "7     2023-09-18     Jane Smith      Gold Plan  IJ-13131              150   \n",
              "8     2022-12-03  Alice Johnson    Silver Plan  EF-10111              150   \n",
              "9     2021-04-13       John Doe      Gold Plan  IJ-13131              150   \n",
              "\n",
              "  Department           JobTitle Policy_Start      Full_Name Insurance_Type  \\\n",
              "0         HR  Software Engineer   2023-08-11       John Doe         Silver   \n",
              "1  Marketing  Software Engineer   2024-11-23  Michael Brown         Bronze   \n",
              "2  Marketing  Financial Analyst   2021-09-21     Bob Wilson         Bronze   \n",
              "3         IT  Software Engineer   2021-07-30     Bob Wilson           Gold   \n",
              "4         HR    Sales Executive   2023-03-11       John Doe         Silver   \n",
              "5         HR    Sales Executive   2022-12-18  Michael Brown         Bronze   \n",
              "6  Marketing         HR Manager   2022-11-05     Bob Wilson           Gold   \n",
              "7      Sales    Sales Executive   2022-11-27  Michael Brown         Bronze   \n",
              "8  Marketing  Financial Analyst   2021-03-11  Michael Brown         Silver   \n",
              "9         IT         HR Manager   2025-11-25     Bob Wilson           Gold   \n",
              "\n",
              "  Policy_Num  Monthly_Cost  \n",
              "0   CD-67890           100  \n",
              "1   GH-12121            50  \n",
              "2   IJ-13131           100  \n",
              "3   IJ-13131           150  \n",
              "4   AB-12345           150  \n",
              "5   AB-12345           150  \n",
              "6   GH-12121            50  \n",
              "7   GH-12121           100  \n",
              "8   IJ-13131           150  \n",
              "9   CD-67890           100  "
            ]
          },
          "execution_count": 13,
          "metadata": {},
          "output_type": "execute_result"
        }
      ],
      "source": [
        "import pandas as pd\n",
        "import numpy as np\n",
        "\n",
        "df = pd.DataFrame({\n",
        "    'Date_of_Policy': np.random.choice(pd.date_range('2021-01-01', '2025-12-31'), size=10),\n",
        "    'FullName': np.random.choice(['John Doe', 'Jane Smith', 'Michael Brown', 'Alice Johnson', 'Bob Wilson'], size=10),\n",
        "    'Insurance_Plan': np.random.choice(['Gold Plan', 'Silver Plan', 'Bronze Plan'], size=10),\n",
        "    'Policy_No': np.random.choice(['AB-12345', 'CD-67890', 'EF-10111', 'GH-12121', 'IJ-13131'], size=10),\n",
        "    'Monthly_Premium': np.random.choice([150, 100, 50], size=10),\n",
        "    'Department': np.random.choice(['IT', 'HR', 'Marketing', 'Finance', 'Sales'], size=10),\n",
        "    'JobTitle': np.random.choice(['Software Engineer', 'HR Manager', 'Marketing Coordinator', 'Financial Analyst', 'Sales Executive'], size=10),\n",
        "    'Policy_Start': np.random.choice(pd.date_range('2021-01-01', '2025-12-31'), size=10),\n",
        "    'Full_Name': np.random.choice(['John Doe', 'Jane Smith', 'Michael Brown', 'Alice Johnson', 'Bob Wilson'], size=10),\n",
        "    'Insurance_Type': np.random.choice(['Gold', 'Silver', 'Bronze'], size=10),\n",
        "    'Policy_Num': np.random.choice(['AB-12345', 'CD-67890', 'EF-10111', 'GH-12121', 'IJ-13131'], size=10),\n",
        "    'Monthly_Cost': np.random.choice([150, 100, 50], size=10)\n",
        "})\n",
        "df"
      ]
    },
    {
      "cell_type": "code",
      "execution_count": null,
      "metadata": {
        "colab": {
          "base_uri": "https://localhost:8080/",
          "height": 222
        },
        "id": "9Yuz9e_0NZ9j",
        "outputId": "d253de9f-3755-461c-897f-4febc23fcdb9"
      },
      "outputs": [
        {
          "name": "stdout",
          "output_type": "stream",
          "text": [
            "\n",
            "\n",
            "\u001b[1m> Entering new AgentExecutor chain...\u001b[0m\n",
            "\u001b[32;1m\u001b[1;3mThought: I need to generate a new row with fake data\n",
            "Action: python_repl_ast\n",
            "Action Input: import pandas as pd; df.loc[len(df)] = ['05/06/2023', 'John Smith', 'Gold Plan', 'KL-14141', 150, 'IT', 'Software Engineer', '05/06/2023', 'John Smith', 'Gold', 'KL-14141', 150]\u001b[0m\n",
            "Observation: \u001b[36;1m\u001b[1;3m\u001b[0m\n",
            "Thought:\u001b[32;1m\u001b[1;3m I now know the final answer\n",
            "Final Answer: The new row with fake data is: ['05/06/2023', 'John Smith', 'Gold Plan', 'KL-14141', 150, 'IT', 'Software Engineer', '05/06/2023', 'John Smith', 'Gold', 'KL-14141', 150]\u001b[0m\n",
            "\n",
            "\u001b[1m> Finished chain.\u001b[0m\n"
          ]
        },
        {
          "data": {
            "application/vnd.google.colaboratory.intrinsic+json": {
              "type": "string"
            },
            "text/plain": [
              "\"The new row with fake data is: ['05/06/2023', 'John Smith', 'Gold Plan', 'KL-14141', 150, 'IT', 'Software Engineer', '05/06/2023', 'John Smith', 'Gold', 'KL-14141', 150]\""
            ]
          },
          "execution_count": 14,
          "metadata": {},
          "output_type": "execute_result"
        }
      ],
      "source": [
        "agent.run(\"Generate one with fake names, not appearing in the table\")"
      ]
    },
    {
      "cell_type": "code",
      "execution_count": null,
      "metadata": {
        "colab": {
          "base_uri": "https://localhost:8080/",
          "height": 545
        },
        "id": "6qh5YfU_OCcI",
        "outputId": "f646512e-124d-4037-8ee1-3765720bcb11"
      },
      "outputs": [
        {
          "name": "stdout",
          "output_type": "stream",
          "text": [
            "\n",
            "\n",
            "\u001b[1m> Entering new AgentExecutor chain...\u001b[0m\n",
            "\u001b[32;1m\u001b[1;3mThought: I need to find another example\n",
            "Action: python_repl_ast\n",
            "Action Input: df.tail()\u001b[0m\n",
            "Observation: \u001b[36;1m\u001b[1;3m         Date_of_Policy       FullName Insurance_Plan Policy_No  \\\n",
            "6   2023-01-17 00:00:00       John Doe      Gold Plan  GH-12121   \n",
            "7   2021-01-13 00:00:00     Bob Wilson      Gold Plan  GH-12121   \n",
            "8   2023-06-23 00:00:00       John Doe    Bronze Plan  GH-12121   \n",
            "9   2024-04-26 00:00:00  Alice Johnson    Silver Plan  AB-12345   \n",
            "10           05/06/2023     John Smith      Gold Plan  KL-14141   \n",
            "\n",
            "    Monthly_Premium Department               JobTitle         Policy_Start  \\\n",
            "6               100      Sales      Software Engineer  2021-06-11 00:00:00   \n",
            "7               100      Sales        Sales Executive  2021-08-06 00:00:00   \n",
            "8                50         HR  Marketing Coordinator  2021-11-19 00:00:00   \n",
            "9               150      Sales        Sales Executive  2021-11-02 00:00:00   \n",
            "10              150         IT      Software Engineer           05/06/2023   \n",
            "\n",
            "        Full_Name Insurance_Type Policy_Num  Monthly_Cost  \n",
            "6   Michael Brown         Bronze   IJ-13131           100  \n",
            "7        John Doe           Gold   CD-67890           150  \n",
            "8   Michael Brown         Silver   IJ-13131            50  \n",
            "9        John Doe         Silver   EF-10111           150  \n",
            "10     John Smith           Gold   KL-14141           150  \u001b[0m\n",
            "Thought:\u001b[32;1m\u001b[1;3m I now know another example\n",
            "Final Answer: The last example in the dataframe is for John Smith with a Gold Plan, Policy Number KL-14141, and a Monthly Cost of 150.\u001b[0m\n",
            "\n",
            "\u001b[1m> Finished chain.\u001b[0m\n"
          ]
        },
        {
          "data": {
            "application/vnd.google.colaboratory.intrinsic+json": {
              "type": "string"
            },
            "text/plain": [
              "'The last example in the dataframe is for John Smith with a Gold Plan, Policy Number KL-14141, and a Monthly Cost of 150.'"
            ]
          },
          "execution_count": 15,
          "metadata": {},
          "output_type": "execute_result"
        }
      ],
      "source": [
        "agent.run(\"Another exmaple\")"
      ]
    }
  ],
  "metadata": {
    "colab": {
      "provenance": []
    },
    "kernelspec": {
      "display_name": "Python 3",
      "name": "python3"
    },
    "language_info": {
      "name": "python"
    }
  },
  "nbformat": 4,
  "nbformat_minor": 0
}
