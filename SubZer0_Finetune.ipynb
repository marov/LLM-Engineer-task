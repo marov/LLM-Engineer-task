{
  "cells": [
    {
      "attachments": {},
      "cell_type": "markdown",
      "metadata": {
        "id": "GuugpWWTwTuD"
      },
      "source": [
        "### Install & import"
      ]
    },
    {
      "cell_type": "code",
      "execution_count": null,
      "metadata": {
        "colab": {
          "base_uri": "https://localhost:8080/"
        },
        "id": "AATY7Vr2wJSW",
        "outputId": "a90961e1-03a0-4bab-b35d-72ce6172fb3e"
      },
      "outputs": [
        {
          "name": "stdout",
          "output_type": "stream",
          "text": [
            "Looking in indexes: https://pypi.org/simple, https://us-python.pkg.dev/colab-wheels/public/simple/\n",
            "Collecting langchain\n",
            "  Downloading langchain-0.0.169-py3-none-any.whl (823 kB)\n",
            "\u001b[2K     \u001b[90m━━━━━━━━━━━━━━━━━━━━━━━━━━━━━━━━━━━━━━\u001b[0m \u001b[32m823.7/823.7 kB\u001b[0m \u001b[31m16.2 MB/s\u001b[0m eta \u001b[36m0:00:00\u001b[0m\n",
            "\u001b[?25hRequirement already satisfied: PyYAML>=5.4.1 in /usr/local/lib/python3.10/dist-packages (from langchain) (6.0)\n",
            "Requirement already satisfied: SQLAlchemy<3,>=1.4 in /usr/local/lib/python3.10/dist-packages (from langchain) (2.0.10)\n",
            "Collecting aiohttp<4.0.0,>=3.8.3 (from langchain)\n",
            "  Downloading aiohttp-3.8.4-cp310-cp310-manylinux_2_17_x86_64.manylinux2014_x86_64.whl (1.0 MB)\n",
            "\u001b[2K     \u001b[90m━━━━━━━━━━━━━━━━━━━━━━━━━━━━━━━━━━━━━━━━\u001b[0m \u001b[32m1.0/1.0 MB\u001b[0m \u001b[31m27.3 MB/s\u001b[0m eta \u001b[36m0:00:00\u001b[0m\n",
            "\u001b[?25hCollecting async-timeout<5.0.0,>=4.0.0 (from langchain)\n",
            "  Downloading async_timeout-4.0.2-py3-none-any.whl (5.8 kB)\n",
            "Collecting dataclasses-json<0.6.0,>=0.5.7 (from langchain)\n",
            "  Downloading dataclasses_json-0.5.7-py3-none-any.whl (25 kB)\n",
            "Requirement already satisfied: numexpr<3.0.0,>=2.8.4 in /usr/local/lib/python3.10/dist-packages (from langchain) (2.8.4)\n",
            "Requirement already satisfied: numpy<2,>=1 in /usr/local/lib/python3.10/dist-packages (from langchain) (1.22.4)\n",
            "Collecting openapi-schema-pydantic<2.0,>=1.2 (from langchain)\n",
            "  Downloading openapi_schema_pydantic-1.2.4-py3-none-any.whl (90 kB)\n",
            "\u001b[2K     \u001b[90m━━━━━━━━━━━━━━━━━━━━━━━━━━━━━━━━━━━━━━━━\u001b[0m \u001b[32m90.0/90.0 kB\u001b[0m \u001b[31m6.0 MB/s\u001b[0m eta \u001b[36m0:00:00\u001b[0m\n",
            "\u001b[?25hRequirement already satisfied: pydantic<2,>=1 in /usr/local/lib/python3.10/dist-packages (from langchain) (1.10.7)\n",
            "Requirement already satisfied: requests<3,>=2 in /usr/local/lib/python3.10/dist-packages (from langchain) (2.27.1)\n",
            "Requirement already satisfied: tenacity<9.0.0,>=8.1.0 in /usr/local/lib/python3.10/dist-packages (from langchain) (8.2.2)\n",
            "Requirement already satisfied: attrs>=17.3.0 in /usr/local/lib/python3.10/dist-packages (from aiohttp<4.0.0,>=3.8.3->langchain) (23.1.0)\n",
            "Requirement already satisfied: charset-normalizer<4.0,>=2.0 in /usr/local/lib/python3.10/dist-packages (from aiohttp<4.0.0,>=3.8.3->langchain) (2.0.12)\n",
            "Collecting multidict<7.0,>=4.5 (from aiohttp<4.0.0,>=3.8.3->langchain)\n",
            "  Downloading multidict-6.0.4-cp310-cp310-manylinux_2_17_x86_64.manylinux2014_x86_64.whl (114 kB)\n",
            "\u001b[2K     \u001b[90m━━━━━━━━━━━━━━━━━━━━━━━━━━━━━━━━━━━━━━━\u001b[0m \u001b[32m114.5/114.5 kB\u001b[0m \u001b[31m2.5 MB/s\u001b[0m eta \u001b[36m0:00:00\u001b[0m\n",
            "\u001b[?25hCollecting yarl<2.0,>=1.0 (from aiohttp<4.0.0,>=3.8.3->langchain)\n",
            "  Downloading yarl-1.9.2-cp310-cp310-manylinux_2_17_x86_64.manylinux2014_x86_64.whl (268 kB)\n",
            "\u001b[2K     \u001b[90m━━━━━━━━━━━━━━━━━━━━━━━━━━━━━━━━━━━━━━━\u001b[0m \u001b[32m268.8/268.8 kB\u001b[0m \u001b[31m9.8 MB/s\u001b[0m eta \u001b[36m0:00:00\u001b[0m\n",
            "\u001b[?25hCollecting frozenlist>=1.1.1 (from aiohttp<4.0.0,>=3.8.3->langchain)\n",
            "  Downloading frozenlist-1.3.3-cp310-cp310-manylinux_2_5_x86_64.manylinux1_x86_64.manylinux_2_17_x86_64.manylinux2014_x86_64.whl (149 kB)\n",
            "\u001b[2K     \u001b[90m━━━━━━━━━━━━━━━━━━━━━━━━━━━━━━━━━━━━━━━\u001b[0m \u001b[32m149.6/149.6 kB\u001b[0m \u001b[31m8.5 MB/s\u001b[0m eta \u001b[36m0:00:00\u001b[0m\n",
            "\u001b[?25hCollecting aiosignal>=1.1.2 (from aiohttp<4.0.0,>=3.8.3->langchain)\n",
            "  Downloading aiosignal-1.3.1-py3-none-any.whl (7.6 kB)\n",
            "Collecting marshmallow<4.0.0,>=3.3.0 (from dataclasses-json<0.6.0,>=0.5.7->langchain)\n",
            "  Downloading marshmallow-3.19.0-py3-none-any.whl (49 kB)\n",
            "\u001b[2K     \u001b[90m━━━━━━━━━━━━━━━━━━━━━━━━━━━━━━━━━━━━━━━━\u001b[0m \u001b[32m49.1/49.1 kB\u001b[0m \u001b[31m3.3 MB/s\u001b[0m eta \u001b[36m0:00:00\u001b[0m\n",
            "\u001b[?25hCollecting marshmallow-enum<2.0.0,>=1.5.1 (from dataclasses-json<0.6.0,>=0.5.7->langchain)\n",
            "  Downloading marshmallow_enum-1.5.1-py2.py3-none-any.whl (4.2 kB)\n",
            "Collecting typing-inspect>=0.4.0 (from dataclasses-json<0.6.0,>=0.5.7->langchain)\n",
            "  Downloading typing_inspect-0.8.0-py3-none-any.whl (8.7 kB)\n",
            "Requirement already satisfied: typing-extensions>=4.2.0 in /usr/local/lib/python3.10/dist-packages (from pydantic<2,>=1->langchain) (4.5.0)\n",
            "Requirement already satisfied: urllib3<1.27,>=1.21.1 in /usr/local/lib/python3.10/dist-packages (from requests<3,>=2->langchain) (1.26.15)\n",
            "Requirement already satisfied: certifi>=2017.4.17 in /usr/local/lib/python3.10/dist-packages (from requests<3,>=2->langchain) (2022.12.7)\n",
            "Requirement already satisfied: idna<4,>=2.5 in /usr/local/lib/python3.10/dist-packages (from requests<3,>=2->langchain) (3.4)\n",
            "Requirement already satisfied: greenlet!=0.4.17 in /usr/local/lib/python3.10/dist-packages (from SQLAlchemy<3,>=1.4->langchain) (2.0.2)\n",
            "Requirement already satisfied: packaging>=17.0 in /usr/local/lib/python3.10/dist-packages (from marshmallow<4.0.0,>=3.3.0->dataclasses-json<0.6.0,>=0.5.7->langchain) (23.1)\n",
            "Collecting mypy-extensions>=0.3.0 (from typing-inspect>=0.4.0->dataclasses-json<0.6.0,>=0.5.7->langchain)\n",
            "  Downloading mypy_extensions-1.0.0-py3-none-any.whl (4.7 kB)\n",
            "Installing collected packages: mypy-extensions, multidict, marshmallow, frozenlist, async-timeout, yarl, typing-inspect, openapi-schema-pydantic, marshmallow-enum, aiosignal, dataclasses-json, aiohttp, langchain\n",
            "Successfully installed aiohttp-3.8.4 aiosignal-1.3.1 async-timeout-4.0.2 dataclasses-json-0.5.7 frozenlist-1.3.3 langchain-0.0.169 marshmallow-3.19.0 marshmallow-enum-1.5.1 multidict-6.0.4 mypy-extensions-1.0.0 openapi-schema-pydantic-1.2.4 typing-inspect-0.8.0 yarl-1.9.2\n",
            "Looking in indexes: https://pypi.org/simple, https://us-python.pkg.dev/colab-wheels/public/simple/\n",
            "Collecting openai\n",
            "  Downloading openai-0.27.6-py3-none-any.whl (71 kB)\n",
            "\u001b[2K     \u001b[90m━━━━━━━━━━━━━━━━━━━━━━━━━━━━━━━━━━━━━━━━\u001b[0m \u001b[32m71.9/71.9 kB\u001b[0m \u001b[31m3.9 MB/s\u001b[0m eta \u001b[36m0:00:00\u001b[0m\n",
            "\u001b[?25hRequirement already satisfied: requests>=2.20 in /usr/local/lib/python3.10/dist-packages (from openai) (2.27.1)\n",
            "Requirement already satisfied: tqdm in /usr/local/lib/python3.10/dist-packages (from openai) (4.65.0)\n",
            "Requirement already satisfied: aiohttp in /usr/local/lib/python3.10/dist-packages (from openai) (3.8.4)\n",
            "Requirement already satisfied: urllib3<1.27,>=1.21.1 in /usr/local/lib/python3.10/dist-packages (from requests>=2.20->openai) (1.26.15)\n",
            "Requirement already satisfied: certifi>=2017.4.17 in /usr/local/lib/python3.10/dist-packages (from requests>=2.20->openai) (2022.12.7)\n",
            "Requirement already satisfied: charset-normalizer~=2.0.0 in /usr/local/lib/python3.10/dist-packages (from requests>=2.20->openai) (2.0.12)\n",
            "Requirement already satisfied: idna<4,>=2.5 in /usr/local/lib/python3.10/dist-packages (from requests>=2.20->openai) (3.4)\n",
            "Requirement already satisfied: attrs>=17.3.0 in /usr/local/lib/python3.10/dist-packages (from aiohttp->openai) (23.1.0)\n",
            "Requirement already satisfied: multidict<7.0,>=4.5 in /usr/local/lib/python3.10/dist-packages (from aiohttp->openai) (6.0.4)\n",
            "Requirement already satisfied: async-timeout<5.0,>=4.0.0a3 in /usr/local/lib/python3.10/dist-packages (from aiohttp->openai) (4.0.2)\n",
            "Requirement already satisfied: yarl<2.0,>=1.0 in /usr/local/lib/python3.10/dist-packages (from aiohttp->openai) (1.9.2)\n",
            "Requirement already satisfied: frozenlist>=1.1.1 in /usr/local/lib/python3.10/dist-packages (from aiohttp->openai) (1.3.3)\n",
            "Requirement already satisfied: aiosignal>=1.1.2 in /usr/local/lib/python3.10/dist-packages (from aiohttp->openai) (1.3.1)\n",
            "Installing collected packages: openai\n",
            "Successfully installed openai-0.27.6\n"
          ]
        }
      ],
      "source": [
        "%pip install langchain\n",
        "%pip install openai"
      ]
    },
    {
      "cell_type": "code",
      "execution_count": null,
      "metadata": {
        "id": "R_VP0PyzyA87"
      },
      "outputs": [],
      "source": [
        "import pandas as pd\n",
        "from langchain.llms import OpenAI\n",
        "from langchain.agents import create_csv_agent, create_pandas_dataframe_agent\n",
        "from langchain.memory import ConversationBufferMemory, ReadOnlySharedMemory"
      ]
    },
    {
      "attachments": {},
      "cell_type": "markdown",
      "metadata": {
        "id": "7GtEvKqZw1RE"
      },
      "source": [
        "### OpenAI login"
      ]
    },
    {
      "cell_type": "code",
      "execution_count": null,
      "metadata": {
        "colab": {
          "base_uri": "https://localhost:8080/"
        },
        "id": "3h6NOlIXwsZZ",
        "outputId": "36b01e78-a4eb-4886-b05c-23e3dedc0b82"
      },
      "outputs": [
        {
          "name": "stdout",
          "output_type": "stream",
          "text": [
            "OpenAI API key:··········\n"
          ]
        }
      ],
      "source": [
        "import getpass\n",
        "pswd = getpass.getpass('OpenAI API key:')"
      ]
    },
    {
      "attachments": {},
      "cell_type": "markdown",
      "metadata": {
        "id": "tssh2L32w9qN"
      },
      "source": [
        "### Load CSV files"
      ]
    },
    {
      "cell_type": "code",
      "execution_count": null,
      "metadata": {
        "colab": {
          "base_uri": "https://localhost:8080/",
          "height": 69
        },
        "id": "1VbCniTmxIso",
        "outputId": "18298dd1-5cf9-43ae-9efb-6d8e4e4afb81"
      },
      "outputs": [
        {
          "data": {
            "text/html": [
              "\n",
              "     <input type=\"file\" id=\"files-c4005a04-80c7-41d3-8988-5ca3d2908dd7\" name=\"files[]\" multiple disabled\n",
              "        style=\"border:none\" />\n",
              "     <output id=\"result-c4005a04-80c7-41d3-8988-5ca3d2908dd7\">\n",
              "      Upload widget is only available when the cell has been executed in the\n",
              "      current browser session. Please rerun this cell to enable.\n",
              "      </output>\n",
              "      <script>// Copyright 2017 Google LLC\n",
              "//\n",
              "// Licensed under the Apache License, Version 2.0 (the \"License\");\n",
              "// you may not use this file except in compliance with the License.\n",
              "// You may obtain a copy of the License at\n",
              "//\n",
              "//      http://www.apache.org/licenses/LICENSE-2.0\n",
              "//\n",
              "// Unless required by applicable law or agreed to in writing, software\n",
              "// distributed under the License is distributed on an \"AS IS\" BASIS,\n",
              "// WITHOUT WARRANTIES OR CONDITIONS OF ANY KIND, either express or implied.\n",
              "// See the License for the specific language governing permissions and\n",
              "// limitations under the License.\n",
              "\n",
              "/**\n",
              " * @fileoverview Helpers for google.colab Python module.\n",
              " */\n",
              "(function(scope) {\n",
              "function span(text, styleAttributes = {}) {\n",
              "  const element = document.createElement('span');\n",
              "  element.textContent = text;\n",
              "  for (const key of Object.keys(styleAttributes)) {\n",
              "    element.style[key] = styleAttributes[key];\n",
              "  }\n",
              "  return element;\n",
              "}\n",
              "\n",
              "// Max number of bytes which will be uploaded at a time.\n",
              "const MAX_PAYLOAD_SIZE = 100 * 1024;\n",
              "\n",
              "function _uploadFiles(inputId, outputId) {\n",
              "  const steps = uploadFilesStep(inputId, outputId);\n",
              "  const outputElement = document.getElementById(outputId);\n",
              "  // Cache steps on the outputElement to make it available for the next call\n",
              "  // to uploadFilesContinue from Python.\n",
              "  outputElement.steps = steps;\n",
              "\n",
              "  return _uploadFilesContinue(outputId);\n",
              "}\n",
              "\n",
              "// This is roughly an async generator (not supported in the browser yet),\n",
              "// where there are multiple asynchronous steps and the Python side is going\n",
              "// to poll for completion of each step.\n",
              "// This uses a Promise to block the python side on completion of each step,\n",
              "// then passes the result of the previous step as the input to the next step.\n",
              "function _uploadFilesContinue(outputId) {\n",
              "  const outputElement = document.getElementById(outputId);\n",
              "  const steps = outputElement.steps;\n",
              "\n",
              "  const next = steps.next(outputElement.lastPromiseValue);\n",
              "  return Promise.resolve(next.value.promise).then((value) => {\n",
              "    // Cache the last promise value to make it available to the next\n",
              "    // step of the generator.\n",
              "    outputElement.lastPromiseValue = value;\n",
              "    return next.value.response;\n",
              "  });\n",
              "}\n",
              "\n",
              "/**\n",
              " * Generator function which is called between each async step of the upload\n",
              " * process.\n",
              " * @param {string} inputId Element ID of the input file picker element.\n",
              " * @param {string} outputId Element ID of the output display.\n",
              " * @return {!Iterable<!Object>} Iterable of next steps.\n",
              " */\n",
              "function* uploadFilesStep(inputId, outputId) {\n",
              "  const inputElement = document.getElementById(inputId);\n",
              "  inputElement.disabled = false;\n",
              "\n",
              "  const outputElement = document.getElementById(outputId);\n",
              "  outputElement.innerHTML = '';\n",
              "\n",
              "  const pickedPromise = new Promise((resolve) => {\n",
              "    inputElement.addEventListener('change', (e) => {\n",
              "      resolve(e.target.files);\n",
              "    });\n",
              "  });\n",
              "\n",
              "  const cancel = document.createElement('button');\n",
              "  inputElement.parentElement.appendChild(cancel);\n",
              "  cancel.textContent = 'Cancel upload';\n",
              "  const cancelPromise = new Promise((resolve) => {\n",
              "    cancel.onclick = () => {\n",
              "      resolve(null);\n",
              "    };\n",
              "  });\n",
              "\n",
              "  // Wait for the user to pick the files.\n",
              "  const files = yield {\n",
              "    promise: Promise.race([pickedPromise, cancelPromise]),\n",
              "    response: {\n",
              "      action: 'starting',\n",
              "    }\n",
              "  };\n",
              "\n",
              "  cancel.remove();\n",
              "\n",
              "  // Disable the input element since further picks are not allowed.\n",
              "  inputElement.disabled = true;\n",
              "\n",
              "  if (!files) {\n",
              "    return {\n",
              "      response: {\n",
              "        action: 'complete',\n",
              "      }\n",
              "    };\n",
              "  }\n",
              "\n",
              "  for (const file of files) {\n",
              "    const li = document.createElement('li');\n",
              "    li.append(span(file.name, {fontWeight: 'bold'}));\n",
              "    li.append(span(\n",
              "        `(${file.type || 'n/a'}) - ${file.size} bytes, ` +\n",
              "        `last modified: ${\n",
              "            file.lastModifiedDate ? file.lastModifiedDate.toLocaleDateString() :\n",
              "                                    'n/a'} - `));\n",
              "    const percent = span('0% done');\n",
              "    li.appendChild(percent);\n",
              "\n",
              "    outputElement.appendChild(li);\n",
              "\n",
              "    const fileDataPromise = new Promise((resolve) => {\n",
              "      const reader = new FileReader();\n",
              "      reader.onload = (e) => {\n",
              "        resolve(e.target.result);\n",
              "      };\n",
              "      reader.readAsArrayBuffer(file);\n",
              "    });\n",
              "    // Wait for the data to be ready.\n",
              "    let fileData = yield {\n",
              "      promise: fileDataPromise,\n",
              "      response: {\n",
              "        action: 'continue',\n",
              "      }\n",
              "    };\n",
              "\n",
              "    // Use a chunked sending to avoid message size limits. See b/62115660.\n",
              "    let position = 0;\n",
              "    do {\n",
              "      const length = Math.min(fileData.byteLength - position, MAX_PAYLOAD_SIZE);\n",
              "      const chunk = new Uint8Array(fileData, position, length);\n",
              "      position += length;\n",
              "\n",
              "      const base64 = btoa(String.fromCharCode.apply(null, chunk));\n",
              "      yield {\n",
              "        response: {\n",
              "          action: 'append',\n",
              "          file: file.name,\n",
              "          data: base64,\n",
              "        },\n",
              "      };\n",
              "\n",
              "      let percentDone = fileData.byteLength === 0 ?\n",
              "          100 :\n",
              "          Math.round((position / fileData.byteLength) * 100);\n",
              "      percent.textContent = `${percentDone}% done`;\n",
              "\n",
              "    } while (position < fileData.byteLength);\n",
              "  }\n",
              "\n",
              "  // All done.\n",
              "  yield {\n",
              "    response: {\n",
              "      action: 'complete',\n",
              "    }\n",
              "  };\n",
              "}\n",
              "\n",
              "scope.google = scope.google || {};\n",
              "scope.google.colab = scope.google.colab || {};\n",
              "scope.google.colab._files = {\n",
              "  _uploadFiles,\n",
              "  _uploadFilesContinue,\n",
              "};\n",
              "})(self);\n",
              "</script> "
            ],
            "text/plain": [
              "<IPython.core.display.HTML object>"
            ]
          },
          "metadata": {},
          "output_type": "display_data"
        },
        {
          "name": "stdout",
          "output_type": "stream",
          "text": [
            "Saving template.csv to template.csv\n"
          ]
        }
      ],
      "source": [
        "# template.csv\n",
        "from google.colab import files\n",
        "upload = files.upload()"
      ]
    },
    {
      "cell_type": "code",
      "execution_count": null,
      "metadata": {
        "colab": {
          "base_uri": "https://localhost:8080/",
          "height": 69
        },
        "id": "Xh0vl4fsxQsZ",
        "outputId": "9eb55888-d71c-4054-b199-1fcae9a6e3c1"
      },
      "outputs": [
        {
          "data": {
            "text/html": [
              "\n",
              "     <input type=\"file\" id=\"files-de49af07-2f23-47fb-b99e-0eaec1b12e5f\" name=\"files[]\" multiple disabled\n",
              "        style=\"border:none\" />\n",
              "     <output id=\"result-de49af07-2f23-47fb-b99e-0eaec1b12e5f\">\n",
              "      Upload widget is only available when the cell has been executed in the\n",
              "      current browser session. Please rerun this cell to enable.\n",
              "      </output>\n",
              "      <script>// Copyright 2017 Google LLC\n",
              "//\n",
              "// Licensed under the Apache License, Version 2.0 (the \"License\");\n",
              "// you may not use this file except in compliance with the License.\n",
              "// You may obtain a copy of the License at\n",
              "//\n",
              "//      http://www.apache.org/licenses/LICENSE-2.0\n",
              "//\n",
              "// Unless required by applicable law or agreed to in writing, software\n",
              "// distributed under the License is distributed on an \"AS IS\" BASIS,\n",
              "// WITHOUT WARRANTIES OR CONDITIONS OF ANY KIND, either express or implied.\n",
              "// See the License for the specific language governing permissions and\n",
              "// limitations under the License.\n",
              "\n",
              "/**\n",
              " * @fileoverview Helpers for google.colab Python module.\n",
              " */\n",
              "(function(scope) {\n",
              "function span(text, styleAttributes = {}) {\n",
              "  const element = document.createElement('span');\n",
              "  element.textContent = text;\n",
              "  for (const key of Object.keys(styleAttributes)) {\n",
              "    element.style[key] = styleAttributes[key];\n",
              "  }\n",
              "  return element;\n",
              "}\n",
              "\n",
              "// Max number of bytes which will be uploaded at a time.\n",
              "const MAX_PAYLOAD_SIZE = 100 * 1024;\n",
              "\n",
              "function _uploadFiles(inputId, outputId) {\n",
              "  const steps = uploadFilesStep(inputId, outputId);\n",
              "  const outputElement = document.getElementById(outputId);\n",
              "  // Cache steps on the outputElement to make it available for the next call\n",
              "  // to uploadFilesContinue from Python.\n",
              "  outputElement.steps = steps;\n",
              "\n",
              "  return _uploadFilesContinue(outputId);\n",
              "}\n",
              "\n",
              "// This is roughly an async generator (not supported in the browser yet),\n",
              "// where there are multiple asynchronous steps and the Python side is going\n",
              "// to poll for completion of each step.\n",
              "// This uses a Promise to block the python side on completion of each step,\n",
              "// then passes the result of the previous step as the input to the next step.\n",
              "function _uploadFilesContinue(outputId) {\n",
              "  const outputElement = document.getElementById(outputId);\n",
              "  const steps = outputElement.steps;\n",
              "\n",
              "  const next = steps.next(outputElement.lastPromiseValue);\n",
              "  return Promise.resolve(next.value.promise).then((value) => {\n",
              "    // Cache the last promise value to make it available to the next\n",
              "    // step of the generator.\n",
              "    outputElement.lastPromiseValue = value;\n",
              "    return next.value.response;\n",
              "  });\n",
              "}\n",
              "\n",
              "/**\n",
              " * Generator function which is called between each async step of the upload\n",
              " * process.\n",
              " * @param {string} inputId Element ID of the input file picker element.\n",
              " * @param {string} outputId Element ID of the output display.\n",
              " * @return {!Iterable<!Object>} Iterable of next steps.\n",
              " */\n",
              "function* uploadFilesStep(inputId, outputId) {\n",
              "  const inputElement = document.getElementById(inputId);\n",
              "  inputElement.disabled = false;\n",
              "\n",
              "  const outputElement = document.getElementById(outputId);\n",
              "  outputElement.innerHTML = '';\n",
              "\n",
              "  const pickedPromise = new Promise((resolve) => {\n",
              "    inputElement.addEventListener('change', (e) => {\n",
              "      resolve(e.target.files);\n",
              "    });\n",
              "  });\n",
              "\n",
              "  const cancel = document.createElement('button');\n",
              "  inputElement.parentElement.appendChild(cancel);\n",
              "  cancel.textContent = 'Cancel upload';\n",
              "  const cancelPromise = new Promise((resolve) => {\n",
              "    cancel.onclick = () => {\n",
              "      resolve(null);\n",
              "    };\n",
              "  });\n",
              "\n",
              "  // Wait for the user to pick the files.\n",
              "  const files = yield {\n",
              "    promise: Promise.race([pickedPromise, cancelPromise]),\n",
              "    response: {\n",
              "      action: 'starting',\n",
              "    }\n",
              "  };\n",
              "\n",
              "  cancel.remove();\n",
              "\n",
              "  // Disable the input element since further picks are not allowed.\n",
              "  inputElement.disabled = true;\n",
              "\n",
              "  if (!files) {\n",
              "    return {\n",
              "      response: {\n",
              "        action: 'complete',\n",
              "      }\n",
              "    };\n",
              "  }\n",
              "\n",
              "  for (const file of files) {\n",
              "    const li = document.createElement('li');\n",
              "    li.append(span(file.name, {fontWeight: 'bold'}));\n",
              "    li.append(span(\n",
              "        `(${file.type || 'n/a'}) - ${file.size} bytes, ` +\n",
              "        `last modified: ${\n",
              "            file.lastModifiedDate ? file.lastModifiedDate.toLocaleDateString() :\n",
              "                                    'n/a'} - `));\n",
              "    const percent = span('0% done');\n",
              "    li.appendChild(percent);\n",
              "\n",
              "    outputElement.appendChild(li);\n",
              "\n",
              "    const fileDataPromise = new Promise((resolve) => {\n",
              "      const reader = new FileReader();\n",
              "      reader.onload = (e) => {\n",
              "        resolve(e.target.result);\n",
              "      };\n",
              "      reader.readAsArrayBuffer(file);\n",
              "    });\n",
              "    // Wait for the data to be ready.\n",
              "    let fileData = yield {\n",
              "      promise: fileDataPromise,\n",
              "      response: {\n",
              "        action: 'continue',\n",
              "      }\n",
              "    };\n",
              "\n",
              "    // Use a chunked sending to avoid message size limits. See b/62115660.\n",
              "    let position = 0;\n",
              "    do {\n",
              "      const length = Math.min(fileData.byteLength - position, MAX_PAYLOAD_SIZE);\n",
              "      const chunk = new Uint8Array(fileData, position, length);\n",
              "      position += length;\n",
              "\n",
              "      const base64 = btoa(String.fromCharCode.apply(null, chunk));\n",
              "      yield {\n",
              "        response: {\n",
              "          action: 'append',\n",
              "          file: file.name,\n",
              "          data: base64,\n",
              "        },\n",
              "      };\n",
              "\n",
              "      let percentDone = fileData.byteLength === 0 ?\n",
              "          100 :\n",
              "          Math.round((position / fileData.byteLength) * 100);\n",
              "      percent.textContent = `${percentDone}% done`;\n",
              "\n",
              "    } while (position < fileData.byteLength);\n",
              "  }\n",
              "\n",
              "  // All done.\n",
              "  yield {\n",
              "    response: {\n",
              "      action: 'complete',\n",
              "    }\n",
              "  };\n",
              "}\n",
              "\n",
              "scope.google = scope.google || {};\n",
              "scope.google.colab = scope.google.colab || {};\n",
              "scope.google.colab._files = {\n",
              "  _uploadFiles,\n",
              "  _uploadFilesContinue,\n",
              "};\n",
              "})(self);\n",
              "</script> "
            ],
            "text/plain": [
              "<IPython.core.display.HTML object>"
            ]
          },
          "metadata": {},
          "output_type": "display_data"
        },
        {
          "name": "stdout",
          "output_type": "stream",
          "text": [
            "Saving table_A.csv to table_A.csv\n"
          ]
        }
      ],
      "source": [
        "# table_A.csv\n",
        "from google.colab import files\n",
        "upload = files.upload()"
      ]
    },
    {
      "cell_type": "code",
      "execution_count": null,
      "metadata": {
        "id": "RAdioTsO78uK"
      },
      "outputs": [],
      "source": [
        "# llm = OpenAI(temperature=0, openai_api_key=pswd, model_name=\"davinci\")\n",
        "llm = OpenAI(temperature=0, openai_api_key=pswd, model_name=\"text-davinci-003\")"
      ]
    },
    {
      "attachments": {},
      "cell_type": "markdown",
      "metadata": {
        "id": "HYtaO3G1y2B6"
      },
      "source": [
        "### *Part 1* Map table A column to template's columns and save resulting DF"
      ]
    },
    {
      "cell_type": "code",
      "execution_count": null,
      "metadata": {
        "id": "LZNIxva7xG4U"
      },
      "outputs": [],
      "source": [
        "memory = ConversationBufferMemory()\n",
        "agent = create_csv_agent(llm, 'table_A.csv', verbose=True)\n",
        "agent.memory = memory"
      ]
    },
    {
      "cell_type": "code",
      "execution_count": null,
      "metadata": {
        "colab": {
          "base_uri": "https://localhost:8080/",
          "height": 701
        },
        "id": "9rbh9Ia4y_1e",
        "outputId": "7879d0f2-1279-4142-a678-71d9a5fad3b3"
      },
      "outputs": [
        {
          "name": "stdout",
          "output_type": "stream",
          "text": [
            "\n",
            "\n",
            "\u001b[1m> Entering new AgentExecutor chain...\u001b[0m\n",
            "\u001b[32;1m\u001b[1;3m\n",
            "Thought: I need to compare the columns of two dataframes.\n",
            "Action: python_repl_ast\n",
            "Action Input: from difflib import SequenceMatcher\u001b[0m\n",
            "Observation: \u001b[36;1m\u001b[1;3m\u001b[0m\n",
            "Thought:\u001b[32;1m\u001b[1;3m I need to compare the columns of two dataframes.\n",
            "Action: python_repl_ast\n",
            "Action Input: template_df = pd.read_csv('template.csv')\u001b[0m\n",
            "Observation: \u001b[36;1m\u001b[1;3mNameError(\"name 'pd' is not defined\")\u001b[0m\n",
            "Thought:\u001b[32;1m\u001b[1;3m I need to import pandas\n",
            "Action: python_repl_ast\n",
            "Action Input: import pandas as pd\u001b[0m\n",
            "Observation: \u001b[36;1m\u001b[1;3m\u001b[0m\n",
            "Thought:\u001b[32;1m\u001b[1;3m I need to read the csv file\n",
            "Action: python_repl_ast\n",
            "Action Input: template_df = pd.read_csv('template.csv')\u001b[0m\n",
            "Observation: \u001b[36;1m\u001b[1;3m\u001b[0m\n",
            "Thought:\u001b[32;1m\u001b[1;3m I need to compare the columns of two dataframes.\n",
            "Action: python_repl_ast\n",
            "Action Input: for col1 in df.columns:\n",
            "    for col2 in template_df.columns:\n",
            "        ratio = SequenceMatcher(None, df[col1], template_df[col2]).ratio()\n",
            "        if ratio > 0:\n",
            "            print(f'{col1} and {col2} have a similarity ratio of {ratio}')\u001b[0m\n",
            "Observation: \u001b[36;1m\u001b[1;3mFullName and EmployeeName have a similarity ratio of 1.0\n",
            "Monthly_Premium and Premium have a similarity ratio of 1.0\n",
            "Full_Name and EmployeeName have a similarity ratio of 1.0\n",
            "Insurance_Type and Plan have a similarity ratio of 1.0\n",
            "Monthly_Cost and Premium have a similarity ratio of 1.0\n",
            "\u001b[0m\n",
            "Thought:\u001b[32;1m\u001b[1;3m I now know the final answer\n",
            "Final Answer: The columns FullName and EmployeeName, Monthly_Premium and Premium, Full_Name and EmployeeName, Insurance_Type and Plan, and Monthly_Cost and Premium have a similarity ratio of 1.0.\u001b[0m\n",
            "\n",
            "\u001b[1m> Finished chain.\u001b[0m\n"
          ]
        },
        {
          "data": {
            "application/vnd.google.colaboratory.intrinsic+json": {
              "type": "string"
            },
            "text/plain": [
              "'The columns FullName and EmployeeName, Monthly_Premium and Premium, Full_Name and EmployeeName, Insurance_Type and Plan, and Monthly_Cost and Premium have a similarity ratio of 1.0.'"
            ]
          },
          "execution_count": 8,
          "metadata": {},
          "output_type": "execute_result"
        }
      ],
      "source": [
        "mapping_to_template = agent.run(f\"Load template_df with template_df = pd.read_csv('template.csv'). \\\n",
        "Compute sequence similarity between all possible pairs of columns from two dataframes. \\\n",
        "Pair columns when ratios when ratio is positive.\")\n",
        "mapping_to_template"
      ]
    },
    {
      "cell_type": "code",
      "execution_count": null,
      "metadata": {
        "colab": {
          "base_uri": "https://localhost:8080/",
          "height": 834
        },
        "id": "JSH7C-JHqVCJ",
        "outputId": "e03d0d13-4e9f-4dc7-e48c-fc43aed26b7d"
      },
      "outputs": [
        {
          "name": "stdout",
          "output_type": "stream",
          "text": [
            "\n",
            "\n",
            "\u001b[1m> Entering new AgentExecutor chain...\u001b[0m\n",
            "\u001b[32;1m\u001b[1;3mThought: I need to create a JSON with the column mapping\n",
            "Action: python_repl_ast\n",
            "Action Input: import json\n",
            "              df_columns = df.columns.tolist()\n",
            "              mapping = {\n",
            "                  'FullName': 'EmployeeName',\n",
            "                  'Monthly_Premium': 'Premium',\n",
            "                  'Full_Name': 'EmployeeName',\n",
            "                  'Insurance_Type': 'Plan',\n",
            "                  'Monthly_Cost': 'Premium'\n",
            "              }\n",
            "              print(json.dumps(mapping))\u001b[0m\n",
            "Observation: \u001b[36;1m\u001b[1;3mIndentationError: unexpected indent (<unknown>, line 2)\u001b[0m\n",
            "Thought:\u001b[32;1m\u001b[1;3m I need to fix the indentation\n",
            "Action: python_repl_ast\n",
            "Action Input: import json\n",
            "              df_columns = df.columns.tolist()\n",
            "              mapping = {\n",
            "                  'FullName': 'EmployeeName',\n",
            "                  'Monthly_Premium': 'Premium',\n",
            "                  'Full_Name': 'EmployeeName',\n",
            "                  'Insurance_Type': 'Plan',\n",
            "                  'Monthly_Cost': 'Premium'\n",
            "              }\n",
            "              print(json.dumps(mapping))\u001b[0m\n",
            "Observation: \u001b[36;1m\u001b[1;3mIndentationError: unexpected indent (<unknown>, line 2)\u001b[0m\n",
            "Thought:\u001b[32;1m\u001b[1;3m I need to fix the indentation\n",
            "Action: python_repl_ast\n",
            "Action Input: import json\n",
            "df_columns = df.columns.tolist()\n",
            "mapping = {\n",
            "    'FullName': 'EmployeeName',\n",
            "    'Monthly_Premium': 'Premium',\n",
            "    'Full_Name': 'EmployeeName',\n",
            "    'Insurance_Type': 'Plan',\n",
            "    'Monthly_Cost': 'Premium'\n",
            "}\n",
            "print(json.dumps(mapping))\u001b[0m{\"FullName\": \"EmployeeName\", \"Monthly_Premium\": \"Premium\", \"Full_Name\": \"EmployeeName\", \"Insurance_Type\": \"Plan\", \"Monthly_Cost\": \"Premium\"}\n",
            "\n",
            "Observation: \u001b[36;1m\u001b[1;3mNone\u001b[0m\n",
            "Thought:\u001b[32;1m\u001b[1;3m I now know the final answer\n",
            "Final Answer: {\"FullName\": \"EmployeeName\", \"Monthly_Premium\": \"Premium\", \"Full_Name\": \"EmployeeName\", \"Insurance_Type\": \"Plan\", \"Monthly_Cost\": \"Premium\"}\u001b[0m\n",
            "\n",
            "\u001b[1m> Finished chain.\u001b[0m\n"
          ]
        },
        {
          "data": {
            "application/vnd.google.colaboratory.intrinsic+json": {
              "type": "string"
            },
            "text/plain": [
              "'{\"FullName\": \"EmployeeName\", \"Monthly_Premium\": \"Premium\", \"Full_Name\": \"EmployeeName\", \"Insurance_Type\": \"Plan\", \"Monthly_Cost\": \"Premium\"}'"
            ]
          },
          "execution_count": 9,
          "metadata": {},
          "output_type": "execute_result"
        }
      ],
      "source": [
        "mapping_json = agent.run(f\"{mapping_to_template}. Use this info to create JSON with column mapping. Print this JSON\").replace('\\'','\"')\n",
        "mapping_json"
      ]
    },
    {
      "cell_type": "code",
      "execution_count": null,
      "metadata": {
        "colab": {
          "base_uri": "https://localhost:8080/"
        },
        "id": "b3Y85HH613FM",
        "outputId": "894297b4-7f8e-43d8-8daa-a05ff5fcab9d"
      },
      "outputs": [
        {
          "data": {
            "text/plain": [
              "['Date', 'PolicyNumber']"
            ]
          },
          "execution_count": 10,
          "metadata": {},
          "output_type": "execute_result"
        }
      ],
      "source": [
        "import json\n",
        "template_df = pd.read_csv('template.csv')\n",
        "not_matched = list(template_df.columns.difference(json.loads(mapping_json).values()))\n",
        "not_matched"
      ]
    },
    {
      "cell_type": "code",
      "execution_count": null,
      "metadata": {
        "colab": {
          "base_uri": "https://localhost:8080/"
        },
        "id": "LMpq3h3wgR9v",
        "outputId": "628ce243-8fc8-4b6c-b340-5e75abe9569a"
      },
      "outputs": [
        {
          "name": "stdout",
          "output_type": "stream",
          "text": [
            "\n",
            "\n",
            "\u001b[1m> Entering new AgentExecutor chain...\u001b[0m\n",
            "\u001b[32;1m\u001b[1;3mThought: I need to find the columns that match the given list\n",
            "Action: python_repl_ast\n",
            "Action Input: df.columns.tolist()\u001b[0m\n",
            "Observation: \u001b[36;1m\u001b[1;3m['Date_of_Policy', 'FullName', 'Insurance_Plan', 'Policy_No', 'Monthly_Premium', 'Department', 'JobTitle', 'Policy_Start', 'Full_Name', 'Insurance_Type', 'Policy_Num', 'Monthly_Cost']\u001b[0m\n",
            "Thought:\u001b[32;1m\u001b[1;3m I need to filter the list to only include the columns I need\n",
            "Action: python_repl_ast\n",
            "Action Input: [col for col in df.columns.tolist() if col in ['Date', 'PolicyNumber']]\u001b[0m\n",
            "Observation: \u001b[36;1m\u001b[1;3m[]\u001b[0m\n",
            "Thought:\u001b[32;1m\u001b[1;3m I need to use the correct column names\n",
            "Action: python_repl_ast\n",
            "Action Input: [col for col in df.columns.tolist() if col in ['Date_of_Policy', 'Policy_No']]\u001b[0m\n",
            "Observation: \u001b[36;1m\u001b[1;3m['Date_of_Policy', 'Policy_No']\u001b[0m\n",
            "Thought:\u001b[32;1m\u001b[1;3m I now know the final answer\n",
            "Final Answer: ['Date_of_Policy', 'Policy_No']\u001b[0m\n",
            "\n",
            "\u001b[1m> Finished chain.\u001b[0m\n"
          ]
        },
        {
          "data": {
            "text/plain": [
              "{'Date_of_Policy': 'Date', 'Policy_No': 'PolicyNumber'}"
            ]
          },
          "execution_count": 11,
          "metadata": {},
          "output_type": "execute_result"
        }
      ],
      "source": [
        "# mapping_missing = agent.run(f\"Find columns in df best matching to {not_matched}. Print as map from df to new columns as a JSON\").replace('\\'','\"')\n",
        "matched_to = agent.run(f\"Find columns in df best matching to {not_matched}. Print as a list\").replace('\\'','\"')\n",
        "mapping_missing = dict(zip(json.loads(matched_to), not_matched))\n",
        "mapping_missing"
      ]
    },
    {
      "cell_type": "code",
      "execution_count": null,
      "metadata": {
        "colab": {
          "base_uri": "https://localhost:8080/"
        },
        "id": "ErCw9Cp0g64x",
        "outputId": "16cf8104-8820-4a0d-8f48-e2c4cd149708"
      },
      "outputs": [
        {
          "data": {
            "text/plain": [
              "{'FullName': 'EmployeeName',\n",
              " 'Monthly_Premium': 'Premium',\n",
              " 'Full_Name': 'EmployeeName',\n",
              " 'Insurance_Type': 'Plan',\n",
              " 'Monthly_Cost': 'Premium',\n",
              " 'Date_of_Policy': 'Date',\n",
              " 'Policy_No': 'PolicyNumber'}"
            ]
          },
          "execution_count": 12,
          "metadata": {},
          "output_type": "execute_result"
        }
      ],
      "source": [
        "_columns = json.loads(mapping_json)\n",
        "_columns.update(mapping_missing)\n",
        "_columns"
      ]
    },
    {
      "cell_type": "code",
      "execution_count": null,
      "metadata": {
        "colab": {
          "base_uri": "https://localhost:8080/",
          "height": 359
        },
        "id": "5CkCvcXpzQZc",
        "outputId": "4799ef1f-855d-428a-d93a-1610ca5dd52c"
      },
      "outputs": [
        {
          "data": {
            "text/html": [
              "\n",
              "  <div id=\"df-1707c64d-7d95-4f8b-afdc-2d8d9d02ae84\">\n",
              "    <div class=\"colab-df-container\">\n",
              "      <div>\n",
              "<style scoped>\n",
              "    .dataframe tbody tr th:only-of-type {\n",
              "        vertical-align: middle;\n",
              "    }\n",
              "\n",
              "    .dataframe tbody tr th {\n",
              "        vertical-align: top;\n",
              "    }\n",
              "\n",
              "    .dataframe thead th {\n",
              "        text-align: right;\n",
              "    }\n",
              "</style>\n",
              "<table border=\"1\" class=\"dataframe\">\n",
              "  <thead>\n",
              "    <tr style=\"text-align: right;\">\n",
              "      <th></th>\n",
              "      <th>Date</th>\n",
              "      <th>EmployeeName</th>\n",
              "      <th>Plan</th>\n",
              "      <th>PolicyNumber</th>\n",
              "      <th>Premium</th>\n",
              "    </tr>\n",
              "  </thead>\n",
              "  <tbody>\n",
              "    <tr>\n",
              "      <th>0</th>\n",
              "      <td>2023-05-01</td>\n",
              "      <td>John Doe</td>\n",
              "      <td>Gold</td>\n",
              "      <td>AB-12345</td>\n",
              "      <td>150.0</td>\n",
              "    </tr>\n",
              "    <tr>\n",
              "      <th>1</th>\n",
              "      <td>2023-05-02</td>\n",
              "      <td>Jane Smith</td>\n",
              "      <td>Silver</td>\n",
              "      <td>CD-67890</td>\n",
              "      <td>100.0</td>\n",
              "    </tr>\n",
              "    <tr>\n",
              "      <th>2</th>\n",
              "      <td>2023-05-03</td>\n",
              "      <td>Michael Brown</td>\n",
              "      <td>Bronze</td>\n",
              "      <td>EF-10111</td>\n",
              "      <td>50.0</td>\n",
              "    </tr>\n",
              "    <tr>\n",
              "      <th>3</th>\n",
              "      <td>2023-05-04</td>\n",
              "      <td>Alice Johnson</td>\n",
              "      <td>Gold</td>\n",
              "      <td>GH-12121</td>\n",
              "      <td>150.0</td>\n",
              "    </tr>\n",
              "    <tr>\n",
              "      <th>4</th>\n",
              "      <td>2023-05-05</td>\n",
              "      <td>Bob Wilson</td>\n",
              "      <td>Silver</td>\n",
              "      <td>IJ-13131</td>\n",
              "      <td>100.0</td>\n",
              "    </tr>\n",
              "    <tr>\n",
              "      <th>5</th>\n",
              "      <td>2023-05-06</td>\n",
              "      <td>Carol Martinez</td>\n",
              "      <td>Bronze</td>\n",
              "      <td>KL-14141</td>\n",
              "      <td>50.0</td>\n",
              "    </tr>\n",
              "    <tr>\n",
              "      <th>6</th>\n",
              "      <td>2023-05-07</td>\n",
              "      <td>David Anderson</td>\n",
              "      <td>Gold</td>\n",
              "      <td>MN-15151</td>\n",
              "      <td>150.0</td>\n",
              "    </tr>\n",
              "    <tr>\n",
              "      <th>7</th>\n",
              "      <td>2023-05-08</td>\n",
              "      <td>Eva Thomas</td>\n",
              "      <td>Silver</td>\n",
              "      <td>OP-16161</td>\n",
              "      <td>100.0</td>\n",
              "    </tr>\n",
              "    <tr>\n",
              "      <th>8</th>\n",
              "      <td>2023-05-09</td>\n",
              "      <td>Frank Jackson</td>\n",
              "      <td>Bronze</td>\n",
              "      <td>QR-17171</td>\n",
              "      <td>50.0</td>\n",
              "    </tr>\n",
              "    <tr>\n",
              "      <th>9</th>\n",
              "      <td>2023-05-10</td>\n",
              "      <td>Grace White</td>\n",
              "      <td>Gold</td>\n",
              "      <td>ST-18181</td>\n",
              "      <td>150.0</td>\n",
              "    </tr>\n",
              "  </tbody>\n",
              "</table>\n",
              "</div>\n",
              "      <button class=\"colab-df-convert\" onclick=\"convertToInteractive('df-1707c64d-7d95-4f8b-afdc-2d8d9d02ae84')\"\n",
              "              title=\"Convert this dataframe to an interactive table.\"\n",
              "              style=\"display:none;\">\n",
              "        \n",
              "  <svg xmlns=\"http://www.w3.org/2000/svg\" height=\"24px\"viewBox=\"0 0 24 24\"\n",
              "       width=\"24px\">\n",
              "    <path d=\"M0 0h24v24H0V0z\" fill=\"none\"/>\n",
              "    <path d=\"M18.56 5.44l.94 2.06.94-2.06 2.06-.94-2.06-.94-.94-2.06-.94 2.06-2.06.94zm-11 1L8.5 8.5l.94-2.06 2.06-.94-2.06-.94L8.5 2.5l-.94 2.06-2.06.94zm10 10l.94 2.06.94-2.06 2.06-.94-2.06-.94-.94-2.06-.94 2.06-2.06.94z\"/><path d=\"M17.41 7.96l-1.37-1.37c-.4-.4-.92-.59-1.43-.59-.52 0-1.04.2-1.43.59L10.3 9.45l-7.72 7.72c-.78.78-.78 2.05 0 2.83L4 21.41c.39.39.9.59 1.41.59.51 0 1.02-.2 1.41-.59l7.78-7.78 2.81-2.81c.8-.78.8-2.07 0-2.86zM5.41 20L4 18.59l7.72-7.72 1.47 1.35L5.41 20z\"/>\n",
              "  </svg>\n",
              "      </button>\n",
              "      \n",
              "  <style>\n",
              "    .colab-df-container {\n",
              "      display:flex;\n",
              "      flex-wrap:wrap;\n",
              "      gap: 12px;\n",
              "    }\n",
              "\n",
              "    .colab-df-convert {\n",
              "      background-color: #E8F0FE;\n",
              "      border: none;\n",
              "      border-radius: 50%;\n",
              "      cursor: pointer;\n",
              "      display: none;\n",
              "      fill: #1967D2;\n",
              "      height: 32px;\n",
              "      padding: 0 0 0 0;\n",
              "      width: 32px;\n",
              "    }\n",
              "\n",
              "    .colab-df-convert:hover {\n",
              "      background-color: #E2EBFA;\n",
              "      box-shadow: 0px 1px 2px rgba(60, 64, 67, 0.3), 0px 1px 3px 1px rgba(60, 64, 67, 0.15);\n",
              "      fill: #174EA6;\n",
              "    }\n",
              "\n",
              "    [theme=dark] .colab-df-convert {\n",
              "      background-color: #3B4455;\n",
              "      fill: #D2E3FC;\n",
              "    }\n",
              "\n",
              "    [theme=dark] .colab-df-convert:hover {\n",
              "      background-color: #434B5C;\n",
              "      box-shadow: 0px 1px 3px 1px rgba(0, 0, 0, 0.15);\n",
              "      filter: drop-shadow(0px 1px 2px rgba(0, 0, 0, 0.3));\n",
              "      fill: #FFFFFF;\n",
              "    }\n",
              "  </style>\n",
              "\n",
              "      <script>\n",
              "        const buttonEl =\n",
              "          document.querySelector('#df-1707c64d-7d95-4f8b-afdc-2d8d9d02ae84 button.colab-df-convert');\n",
              "        buttonEl.style.display =\n",
              "          google.colab.kernel.accessAllowed ? 'block' : 'none';\n",
              "\n",
              "        async function convertToInteractive(key) {\n",
              "          const element = document.querySelector('#df-1707c64d-7d95-4f8b-afdc-2d8d9d02ae84');\n",
              "          const dataTable =\n",
              "            await google.colab.kernel.invokeFunction('convertToInteractive',\n",
              "                                                     [key], {});\n",
              "          if (!dataTable) return;\n",
              "\n",
              "          const docLinkHtml = 'Like what you see? Visit the ' +\n",
              "            '<a target=\"_blank\" href=https://colab.research.google.com/notebooks/data_table.ipynb>data table notebook</a>'\n",
              "            + ' to learn more about interactive tables.';\n",
              "          element.innerHTML = '';\n",
              "          dataTable['output_type'] = 'display_data';\n",
              "          await google.colab.output.renderOutput(dataTable, element);\n",
              "          const docLink = document.createElement('div');\n",
              "          docLink.innerHTML = docLinkHtml;\n",
              "          element.appendChild(docLink);\n",
              "        }\n",
              "      </script>\n",
              "    </div>\n",
              "  </div>\n",
              "  "
            ],
            "text/plain": [
              "        Date    EmployeeName    Plan PolicyNumber  Premium\n",
              "0 2023-05-01        John Doe    Gold     AB-12345    150.0\n",
              "1 2023-05-02      Jane Smith  Silver     CD-67890    100.0\n",
              "2 2023-05-03   Michael Brown  Bronze     EF-10111     50.0\n",
              "3 2023-05-04   Alice Johnson    Gold     GH-12121    150.0\n",
              "4 2023-05-05      Bob Wilson  Silver     IJ-13131    100.0\n",
              "5 2023-05-06  Carol Martinez  Bronze     KL-14141     50.0\n",
              "6 2023-05-07  David Anderson    Gold     MN-15151    150.0\n",
              "7 2023-05-08      Eva Thomas  Silver     OP-16161    100.0\n",
              "8 2023-05-09   Frank Jackson  Bronze     QR-17171     50.0\n",
              "9 2023-05-10     Grace White    Gold     ST-18181    150.0"
            ]
          },
          "execution_count": 13,
          "metadata": {},
          "output_type": "execute_result"
        }
      ],
      "source": [
        "# apply mapping_code to `table_A.csv`\n",
        "df = pd.read_csv(\"table_A.csv\")\n",
        "df.rename(columns=_columns, inplace=True)\n",
        "df = df[pd.read_csv(\"template.csv\").columns]\n",
        "# Keep the first occurrence of each duplicated column\n",
        "df = df.loc[:, ~df.columns.duplicated(keep='first')]\n",
        "df['Date'] = pd.to_datetime(df['Date'])\n",
        "df"
      ]
    },
    {
      "attachments": {},
      "cell_type": "markdown",
      "metadata": {
        "id": "H1yyrJqJ1YY6"
      },
      "source": [
        "### *Part 2* Align the column formatting of the DF with that of template_df"
      ]
    },
    {
      "cell_type": "code",
      "execution_count": null,
      "metadata": {
        "id": "J3SkZmGIzfRb"
      },
      "outputs": [],
      "source": [
        "agent = create_pandas_dataframe_agent(llm, df, verbose=True)\n",
        "agent.memory = memory"
      ]
    },
    {
      "cell_type": "code",
      "execution_count": null,
      "metadata": {
        "colab": {
          "base_uri": "https://localhost:8080/",
          "height": 324
        },
        "id": "Fn5x6rTj1pJg",
        "outputId": "cf3f239a-a959-4cc0-a102-303e6ffe8ce4"
      },
      "outputs": [
        {
          "name": "stdout",
          "output_type": "stream",
          "text": [
            "\n",
            "\n",
            "\u001b[1m> Entering new AgentExecutor chain...\u001b[0m\n",
            "\u001b[32;1m\u001b[1;3m\n",
            "Thought: I need to change the format of the date column\n",
            "Action: python_repl_ast\n",
            "Action Input: df['Date'] = df['Date'].dt.strftime('%d-%m-%Y')\u001b[0m\n",
            "Observation: \u001b[36;1m\u001b[1;3m\u001b[0m\n",
            "Thought:\u001b[32;1m\u001b[1;3m I need to change the format of the PolicyNumber column\n",
            "Action: python_repl_ast\n",
            "Action Input: df['PolicyNumber'] = df['PolicyNumber'].str.replace('-', '')\u001b[0m\n",
            "Observation: \u001b[36;1m\u001b[1;3m\u001b[0m\n",
            "Thought:\u001b[32;1m\u001b[1;3m I now know the final answer\n",
            "Final Answer: df['Date'] = df['Date'].dt.strftime('%d-%m-%Y')\n",
            "df['PolicyNumber'] = df['PolicyNumber'].str.replace('-', '')\u001b[0m\n",
            "\n",
            "\u001b[1m> Finished chain.\u001b[0m\n"
          ]
        },
        {
          "data": {
            "application/vnd.google.colaboratory.intrinsic+json": {
              "type": "string"
            },
            "text/plain": [
              "\"df['Date'] = df['Date'].dt.strftime('%d-%m-%Y')\\ndf['PolicyNumber'] = df['PolicyNumber'].str.replace('-', '')\""
            ]
          },
          "execution_count": 15,
          "metadata": {},
          "output_type": "execute_result"
        }
      ],
      "source": [
        "template_df = pd.read_csv('template.csv')\n",
        "col_transform_code = agent.run(f\"Make the formatting of every columns match the correcponding column in {template_df}. Output the code\")\n",
        "col_transform_code"
      ]
    },
    {
      "cell_type": "code",
      "execution_count": null,
      "metadata": {
        "colab": {
          "base_uri": "https://localhost:8080/",
          "height": 359
        },
        "id": "8gztqnpp2QyR",
        "outputId": "55c54e6b-51f2-4c6d-9e58-3193ae7fa593"
      },
      "outputs": [
        {
          "data": {
            "text/html": [
              "\n",
              "  <div id=\"df-5c323fda-fad6-400c-b689-2c3b9520a3fd\">\n",
              "    <div class=\"colab-df-container\">\n",
              "      <div>\n",
              "<style scoped>\n",
              "    .dataframe tbody tr th:only-of-type {\n",
              "        vertical-align: middle;\n",
              "    }\n",
              "\n",
              "    .dataframe tbody tr th {\n",
              "        vertical-align: top;\n",
              "    }\n",
              "\n",
              "    .dataframe thead th {\n",
              "        text-align: right;\n",
              "    }\n",
              "</style>\n",
              "<table border=\"1\" class=\"dataframe\">\n",
              "  <thead>\n",
              "    <tr style=\"text-align: right;\">\n",
              "      <th></th>\n",
              "      <th>Date</th>\n",
              "      <th>EmployeeName</th>\n",
              "      <th>Plan</th>\n",
              "      <th>PolicyNumber</th>\n",
              "      <th>Premium</th>\n",
              "    </tr>\n",
              "  </thead>\n",
              "  <tbody>\n",
              "    <tr>\n",
              "      <th>0</th>\n",
              "      <td>01-05-2023</td>\n",
              "      <td>John Doe</td>\n",
              "      <td>Gold</td>\n",
              "      <td>AB12345</td>\n",
              "      <td>150.0</td>\n",
              "    </tr>\n",
              "    <tr>\n",
              "      <th>1</th>\n",
              "      <td>02-05-2023</td>\n",
              "      <td>Jane Smith</td>\n",
              "      <td>Silver</td>\n",
              "      <td>CD67890</td>\n",
              "      <td>100.0</td>\n",
              "    </tr>\n",
              "    <tr>\n",
              "      <th>2</th>\n",
              "      <td>03-05-2023</td>\n",
              "      <td>Michael Brown</td>\n",
              "      <td>Bronze</td>\n",
              "      <td>EF10111</td>\n",
              "      <td>50.0</td>\n",
              "    </tr>\n",
              "    <tr>\n",
              "      <th>3</th>\n",
              "      <td>04-05-2023</td>\n",
              "      <td>Alice Johnson</td>\n",
              "      <td>Gold</td>\n",
              "      <td>GH12121</td>\n",
              "      <td>150.0</td>\n",
              "    </tr>\n",
              "    <tr>\n",
              "      <th>4</th>\n",
              "      <td>05-05-2023</td>\n",
              "      <td>Bob Wilson</td>\n",
              "      <td>Silver</td>\n",
              "      <td>IJ13131</td>\n",
              "      <td>100.0</td>\n",
              "    </tr>\n",
              "    <tr>\n",
              "      <th>5</th>\n",
              "      <td>06-05-2023</td>\n",
              "      <td>Carol Martinez</td>\n",
              "      <td>Bronze</td>\n",
              "      <td>KL14141</td>\n",
              "      <td>50.0</td>\n",
              "    </tr>\n",
              "    <tr>\n",
              "      <th>6</th>\n",
              "      <td>07-05-2023</td>\n",
              "      <td>David Anderson</td>\n",
              "      <td>Gold</td>\n",
              "      <td>MN15151</td>\n",
              "      <td>150.0</td>\n",
              "    </tr>\n",
              "    <tr>\n",
              "      <th>7</th>\n",
              "      <td>08-05-2023</td>\n",
              "      <td>Eva Thomas</td>\n",
              "      <td>Silver</td>\n",
              "      <td>OP16161</td>\n",
              "      <td>100.0</td>\n",
              "    </tr>\n",
              "    <tr>\n",
              "      <th>8</th>\n",
              "      <td>09-05-2023</td>\n",
              "      <td>Frank Jackson</td>\n",
              "      <td>Bronze</td>\n",
              "      <td>QR17171</td>\n",
              "      <td>50.0</td>\n",
              "    </tr>\n",
              "    <tr>\n",
              "      <th>9</th>\n",
              "      <td>10-05-2023</td>\n",
              "      <td>Grace White</td>\n",
              "      <td>Gold</td>\n",
              "      <td>ST18181</td>\n",
              "      <td>150.0</td>\n",
              "    </tr>\n",
              "  </tbody>\n",
              "</table>\n",
              "</div>\n",
              "      <button class=\"colab-df-convert\" onclick=\"convertToInteractive('df-5c323fda-fad6-400c-b689-2c3b9520a3fd')\"\n",
              "              title=\"Convert this dataframe to an interactive table.\"\n",
              "              style=\"display:none;\">\n",
              "        \n",
              "  <svg xmlns=\"http://www.w3.org/2000/svg\" height=\"24px\"viewBox=\"0 0 24 24\"\n",
              "       width=\"24px\">\n",
              "    <path d=\"M0 0h24v24H0V0z\" fill=\"none\"/>\n",
              "    <path d=\"M18.56 5.44l.94 2.06.94-2.06 2.06-.94-2.06-.94-.94-2.06-.94 2.06-2.06.94zm-11 1L8.5 8.5l.94-2.06 2.06-.94-2.06-.94L8.5 2.5l-.94 2.06-2.06.94zm10 10l.94 2.06.94-2.06 2.06-.94-2.06-.94-.94-2.06-.94 2.06-2.06.94z\"/><path d=\"M17.41 7.96l-1.37-1.37c-.4-.4-.92-.59-1.43-.59-.52 0-1.04.2-1.43.59L10.3 9.45l-7.72 7.72c-.78.78-.78 2.05 0 2.83L4 21.41c.39.39.9.59 1.41.59.51 0 1.02-.2 1.41-.59l7.78-7.78 2.81-2.81c.8-.78.8-2.07 0-2.86zM5.41 20L4 18.59l7.72-7.72 1.47 1.35L5.41 20z\"/>\n",
              "  </svg>\n",
              "      </button>\n",
              "      \n",
              "  <style>\n",
              "    .colab-df-container {\n",
              "      display:flex;\n",
              "      flex-wrap:wrap;\n",
              "      gap: 12px;\n",
              "    }\n",
              "\n",
              "    .colab-df-convert {\n",
              "      background-color: #E8F0FE;\n",
              "      border: none;\n",
              "      border-radius: 50%;\n",
              "      cursor: pointer;\n",
              "      display: none;\n",
              "      fill: #1967D2;\n",
              "      height: 32px;\n",
              "      padding: 0 0 0 0;\n",
              "      width: 32px;\n",
              "    }\n",
              "\n",
              "    .colab-df-convert:hover {\n",
              "      background-color: #E2EBFA;\n",
              "      box-shadow: 0px 1px 2px rgba(60, 64, 67, 0.3), 0px 1px 3px 1px rgba(60, 64, 67, 0.15);\n",
              "      fill: #174EA6;\n",
              "    }\n",
              "\n",
              "    [theme=dark] .colab-df-convert {\n",
              "      background-color: #3B4455;\n",
              "      fill: #D2E3FC;\n",
              "    }\n",
              "\n",
              "    [theme=dark] .colab-df-convert:hover {\n",
              "      background-color: #434B5C;\n",
              "      box-shadow: 0px 1px 3px 1px rgba(0, 0, 0, 0.15);\n",
              "      filter: drop-shadow(0px 1px 2px rgba(0, 0, 0, 0.3));\n",
              "      fill: #FFFFFF;\n",
              "    }\n",
              "  </style>\n",
              "\n",
              "      <script>\n",
              "        const buttonEl =\n",
              "          document.querySelector('#df-5c323fda-fad6-400c-b689-2c3b9520a3fd button.colab-df-convert');\n",
              "        buttonEl.style.display =\n",
              "          google.colab.kernel.accessAllowed ? 'block' : 'none';\n",
              "\n",
              "        async function convertToInteractive(key) {\n",
              "          const element = document.querySelector('#df-5c323fda-fad6-400c-b689-2c3b9520a3fd');\n",
              "          const dataTable =\n",
              "            await google.colab.kernel.invokeFunction('convertToInteractive',\n",
              "                                                     [key], {});\n",
              "          if (!dataTable) return;\n",
              "\n",
              "          const docLinkHtml = 'Like what you see? Visit the ' +\n",
              "            '<a target=\"_blank\" href=https://colab.research.google.com/notebooks/data_table.ipynb>data table notebook</a>'\n",
              "            + ' to learn more about interactive tables.';\n",
              "          element.innerHTML = '';\n",
              "          dataTable['output_type'] = 'display_data';\n",
              "          await google.colab.output.renderOutput(dataTable, element);\n",
              "          const docLink = document.createElement('div');\n",
              "          docLink.innerHTML = docLinkHtml;\n",
              "          element.appendChild(docLink);\n",
              "        }\n",
              "      </script>\n",
              "    </div>\n",
              "  </div>\n",
              "  "
            ],
            "text/plain": [
              "         Date    EmployeeName    Plan PolicyNumber  Premium\n",
              "0  01-05-2023        John Doe    Gold      AB12345    150.0\n",
              "1  02-05-2023      Jane Smith  Silver      CD67890    100.0\n",
              "2  03-05-2023   Michael Brown  Bronze      EF10111     50.0\n",
              "3  04-05-2023   Alice Johnson    Gold      GH12121    150.0\n",
              "4  05-05-2023      Bob Wilson  Silver      IJ13131    100.0\n",
              "5  06-05-2023  Carol Martinez  Bronze      KL14141     50.0\n",
              "6  07-05-2023  David Anderson    Gold      MN15151    150.0\n",
              "7  08-05-2023      Eva Thomas  Silver      OP16161    100.0\n",
              "8  09-05-2023   Frank Jackson  Bronze      QR17171     50.0\n",
              "9  10-05-2023     Grace White    Gold      ST18181    150.0"
            ]
          },
          "execution_count": 16,
          "metadata": {},
          "output_type": "execute_result"
        }
      ],
      "source": [
        "# apply mapping_code and col_transform_code to `table_A.csv`\n",
        "df = pd.read_csv(\"table_A.csv\")\n",
        "df.rename(columns=_columns, inplace=True)\n",
        "df = df[pd.read_csv(\"template.csv\").columns]\n",
        "# Keep the first occurrence of each duplicated column\n",
        "df = df.loc[:, ~df.columns.duplicated(keep='first')]\n",
        "df['Date'] = pd.to_datetime(df['Date'])\n",
        "exec(col_transform_code)\n",
        "df"
      ]
    },
    {
      "cell_type": "code",
      "execution_count": null,
      "metadata": {
        "colab": {
          "base_uri": "https://localhost:8080/"
        },
        "id": "_oCTapLhTkSq",
        "outputId": "07956eab-d8b3-47fe-df10-f214d8bdc7dc"
      },
      "outputs": [
        {
          "data": {
            "text/plain": [
              "ConversationBufferMemory(chat_memory=ChatMessageHistory(messages=[HumanMessage(content=\"Load template_df with template_df = pd.read_csv('template.csv'). Compute sequence similarity between all possible pairs of columns from two dataframes. Pair columns when ratios when ratio is positive.\", additional_kwargs={}, example=False), AIMessage(content='The columns FullName and EmployeeName, Monthly_Premium and Premium, Full_Name and EmployeeName, Insurance_Type and Plan, and Monthly_Cost and Premium have a similarity ratio of 1.0.', additional_kwargs={}, example=False), HumanMessage(content='The columns FullName and EmployeeName, Monthly_Premium and Premium, Full_Name and EmployeeName, Insurance_Type and Plan, and Monthly_Cost and Premium have a similarity ratio of 1.0.. Use this info to create JSON with column mapping. Print this JSON', additional_kwargs={}, example=False), AIMessage(content='{\"FullName\": \"EmployeeName\", \"Monthly_Premium\": \"Premium\", \"Full_Name\": \"EmployeeName\", \"Insurance_Type\": \"Plan\", \"Monthly_Cost\": \"Premium\"}', additional_kwargs={}, example=False), HumanMessage(content=\"Find columns in df best matching to ['Date', 'PolicyNumber']. Print as a list\", additional_kwargs={}, example=False), AIMessage(content=\"['Date_of_Policy', 'Policy_No']\", additional_kwargs={}, example=False), HumanMessage(content='Make the formatting of every columns match the correcponding column in          Date    EmployeeName    Plan PolicyNumber  Premium\\n0  01-05-2023        John Doe    Gold      AB12345      150\\n1  02-05-2023      Jane Smith  Silver      CD67890      100\\n2  03-05-2023   Michael Brown  Bronze      EF10111       50\\n3  04-05-2023   Alice Johnson    Gold      GH12121      150\\n4  05-05-2023      Bob Wilson  Silver      IJ13131      100\\n5  06-05-2023  Carol Martinez  Bronze      KL14141       50\\n6  07-05-2023  David Anderson    Gold      MN15151      150\\n7  08-05-2023      Eva Thomas  Silver      OP16161      100\\n8  09-05-2023   Frank Jackson  Bronze      QR17171       50\\n9  10-05-2023     Grace White    Gold      ST18181      150. Output the code', additional_kwargs={}, example=False), AIMessage(content=\"df['Date'] = df['Date'].dt.strftime('%d-%m-%Y')\\ndf['PolicyNumber'] = df['PolicyNumber'].str.replace('-', '')\", additional_kwargs={}, example=False)]), output_key=None, input_key=None, return_messages=False, human_prefix='Human', ai_prefix='AI', memory_key='history')"
            ]
          },
          "execution_count": 17,
          "metadata": {},
          "output_type": "execute_result"
        }
      ],
      "source": [
        "agent.memory"
      ]
    },
    {
      "cell_type": "code",
      "execution_count": null,
      "metadata": {
        "colab": {
          "base_uri": "https://localhost:8080/",
          "height": 241
        },
        "id": "-ZlKy58EVhkY",
        "outputId": "e1579cff-2d73-4885-e468-6d9fec876e8c"
      },
      "outputs": [
        {
          "name": "stdout",
          "output_type": "stream",
          "text": [
            "<class 'langchain.schema.HumanMessage'> <class 'langchain.schema.AIMessage'>\n",
            "<class 'langchain.schema.HumanMessage'> <class 'langchain.schema.AIMessage'>\n",
            "<class 'langchain.schema.HumanMessage'> <class 'langchain.schema.AIMessage'>\n",
            "<class 'langchain.schema.HumanMessage'> <class 'langchain.schema.AIMessage'>\n"
          ]
        },
        {
          "data": {
            "text/html": [
              "\n",
              "  <div id=\"df-915f5726-5492-44a1-ac56-269eb684d3af\">\n",
              "    <div class=\"colab-df-container\">\n",
              "      <div>\n",
              "<style scoped>\n",
              "    .dataframe tbody tr th:only-of-type {\n",
              "        vertical-align: middle;\n",
              "    }\n",
              "\n",
              "    .dataframe tbody tr th {\n",
              "        vertical-align: top;\n",
              "    }\n",
              "\n",
              "    .dataframe thead th {\n",
              "        text-align: right;\n",
              "    }\n",
              "</style>\n",
              "<table border=\"1\" class=\"dataframe\">\n",
              "  <thead>\n",
              "    <tr style=\"text-align: right;\">\n",
              "      <th></th>\n",
              "      <th>prompt</th>\n",
              "      <th>completion</th>\n",
              "    </tr>\n",
              "  </thead>\n",
              "  <tbody>\n",
              "    <tr>\n",
              "      <th>0</th>\n",
              "      <td>Load template_df with template_df = pd.read_cs...</td>\n",
              "      <td>The columns FullName and EmployeeName, Monthly...</td>\n",
              "    </tr>\n",
              "    <tr>\n",
              "      <th>1</th>\n",
              "      <td>The columns FullName and EmployeeName, Monthly...</td>\n",
              "      <td>{\"FullName\": \"EmployeeName\", \"Monthly_Premium\"...</td>\n",
              "    </tr>\n",
              "    <tr>\n",
              "      <th>2</th>\n",
              "      <td>Find columns in df best matching to ['Date', '...</td>\n",
              "      <td>['Date_of_Policy', 'Policy_No']</td>\n",
              "    </tr>\n",
              "    <tr>\n",
              "      <th>3</th>\n",
              "      <td>Make the formatting of every columns match the...</td>\n",
              "      <td>df['Date'] = df['Date'].dt.strftime('%d-%m-%Y'...</td>\n",
              "    </tr>\n",
              "  </tbody>\n",
              "</table>\n",
              "</div>\n",
              "      <button class=\"colab-df-convert\" onclick=\"convertToInteractive('df-915f5726-5492-44a1-ac56-269eb684d3af')\"\n",
              "              title=\"Convert this dataframe to an interactive table.\"\n",
              "              style=\"display:none;\">\n",
              "        \n",
              "  <svg xmlns=\"http://www.w3.org/2000/svg\" height=\"24px\"viewBox=\"0 0 24 24\"\n",
              "       width=\"24px\">\n",
              "    <path d=\"M0 0h24v24H0V0z\" fill=\"none\"/>\n",
              "    <path d=\"M18.56 5.44l.94 2.06.94-2.06 2.06-.94-2.06-.94-.94-2.06-.94 2.06-2.06.94zm-11 1L8.5 8.5l.94-2.06 2.06-.94-2.06-.94L8.5 2.5l-.94 2.06-2.06.94zm10 10l.94 2.06.94-2.06 2.06-.94-2.06-.94-.94-2.06-.94 2.06-2.06.94z\"/><path d=\"M17.41 7.96l-1.37-1.37c-.4-.4-.92-.59-1.43-.59-.52 0-1.04.2-1.43.59L10.3 9.45l-7.72 7.72c-.78.78-.78 2.05 0 2.83L4 21.41c.39.39.9.59 1.41.59.51 0 1.02-.2 1.41-.59l7.78-7.78 2.81-2.81c.8-.78.8-2.07 0-2.86zM5.41 20L4 18.59l7.72-7.72 1.47 1.35L5.41 20z\"/>\n",
              "  </svg>\n",
              "      </button>\n",
              "      \n",
              "  <style>\n",
              "    .colab-df-container {\n",
              "      display:flex;\n",
              "      flex-wrap:wrap;\n",
              "      gap: 12px;\n",
              "    }\n",
              "\n",
              "    .colab-df-convert {\n",
              "      background-color: #E8F0FE;\n",
              "      border: none;\n",
              "      border-radius: 50%;\n",
              "      cursor: pointer;\n",
              "      display: none;\n",
              "      fill: #1967D2;\n",
              "      height: 32px;\n",
              "      padding: 0 0 0 0;\n",
              "      width: 32px;\n",
              "    }\n",
              "\n",
              "    .colab-df-convert:hover {\n",
              "      background-color: #E2EBFA;\n",
              "      box-shadow: 0px 1px 2px rgba(60, 64, 67, 0.3), 0px 1px 3px 1px rgba(60, 64, 67, 0.15);\n",
              "      fill: #174EA6;\n",
              "    }\n",
              "\n",
              "    [theme=dark] .colab-df-convert {\n",
              "      background-color: #3B4455;\n",
              "      fill: #D2E3FC;\n",
              "    }\n",
              "\n",
              "    [theme=dark] .colab-df-convert:hover {\n",
              "      background-color: #434B5C;\n",
              "      box-shadow: 0px 1px 3px 1px rgba(0, 0, 0, 0.15);\n",
              "      filter: drop-shadow(0px 1px 2px rgba(0, 0, 0, 0.3));\n",
              "      fill: #FFFFFF;\n",
              "    }\n",
              "  </style>\n",
              "\n",
              "      <script>\n",
              "        const buttonEl =\n",
              "          document.querySelector('#df-915f5726-5492-44a1-ac56-269eb684d3af button.colab-df-convert');\n",
              "        buttonEl.style.display =\n",
              "          google.colab.kernel.accessAllowed ? 'block' : 'none';\n",
              "\n",
              "        async function convertToInteractive(key) {\n",
              "          const element = document.querySelector('#df-915f5726-5492-44a1-ac56-269eb684d3af');\n",
              "          const dataTable =\n",
              "            await google.colab.kernel.invokeFunction('convertToInteractive',\n",
              "                                                     [key], {});\n",
              "          if (!dataTable) return;\n",
              "\n",
              "          const docLinkHtml = 'Like what you see? Visit the ' +\n",
              "            '<a target=\"_blank\" href=https://colab.research.google.com/notebooks/data_table.ipynb>data table notebook</a>'\n",
              "            + ' to learn more about interactive tables.';\n",
              "          element.innerHTML = '';\n",
              "          dataTable['output_type'] = 'display_data';\n",
              "          await google.colab.output.renderOutput(dataTable, element);\n",
              "          const docLink = document.createElement('div');\n",
              "          docLink.innerHTML = docLinkHtml;\n",
              "          element.appendChild(docLink);\n",
              "        }\n",
              "      </script>\n",
              "    </div>\n",
              "  </div>\n",
              "  "
            ],
            "text/plain": [
              "                                              prompt  \\\n",
              "0  Load template_df with template_df = pd.read_cs...   \n",
              "1  The columns FullName and EmployeeName, Monthly...   \n",
              "2  Find columns in df best matching to ['Date', '...   \n",
              "3  Make the formatting of every columns match the...   \n",
              "\n",
              "                                          completion  \n",
              "0  The columns FullName and EmployeeName, Monthly...  \n",
              "1  {\"FullName\": \"EmployeeName\", \"Monthly_Premium\"...  \n",
              "2                    ['Date_of_Policy', 'Policy_No']  \n",
              "3  df['Date'] = df['Date'].dt.strftime('%d-%m-%Y'...  "
            ]
          },
          "execution_count": 28,
          "metadata": {},
          "output_type": "execute_result"
        }
      ],
      "source": [
        "from langchain.schema import HumanMessage, AIMessage\n",
        "prompt =[]\n",
        "completion = []\n",
        "for message1, message2 in zip(agent.memory.chat_memory.messages, agent.memory.chat_memory.messages[1:]):\n",
        "  if type(message1) == HumanMessage: # we start with prompt always\n",
        "    print(type(message1), type(message2))\n",
        "    prompt.append(message1.content)\n",
        "    completion.append(message2.content)\n",
        "df = pd.DataFrame(zip(prompt, completion), columns = ['prompt','completion'])\n",
        "df"
      ]
    },
    {
      "cell_type": "code",
      "execution_count": null,
      "metadata": {
        "id": "P6ZvICQDW8Cx"
      },
      "outputs": [],
      "source": [
        "df.to_json(\"examples.jsonl\", orient='records', lines=True)"
      ]
    },
    {
      "cell_type": "code",
      "execution_count": null,
      "metadata": {
        "colab": {
          "base_uri": "https://localhost:8080/"
        },
        "id": "A6Oymh_kaW5a",
        "outputId": "a7c7eac9-6496-4e2c-c02d-186c8636a96b"
      },
      "outputs": [
        {
          "name": "stdout",
          "output_type": "stream",
          "text": [
            "Analyzing...\n",
            "\n",
            "- Your file contains 4 prompt-completion pairs. In general, we recommend having at least a few hundred examples. We've found that performance tends to linearly increase for every doubling of the number of examples\n",
            "- Your data does not contain a common separator at the end of your prompts. Having a separator string appended to the end of the prompt makes it clearer to the fine-tuned model where the completion should begin. See https://platform.openai.com/docs/guides/fine-tuning/preparing-your-dataset for more detail and examples. If you intend to do open-ended generation, then you should leave the prompts empty\n",
            "- Your data does not contain a common ending at the end of your completions. Having a common ending string appended to the end of the completion makes it clearer to the fine-tuned model where the completion should end. See https://platform.openai.com/docs/guides/fine-tuning/preparing-your-dataset for more detail and examples.\n",
            "- The completion should start with a whitespace character (` `). This tends to produce better results due to the tokenization we use. See https://platform.openai.com/docs/guides/fine-tuning/preparing-your-dataset for more details\n",
            "\n",
            "Based on the analysis we will perform the following actions:\n",
            "- [Recommended] Add a suffix separator `\\n\\n###\\n\\n` to all prompts [Y/n]: Y\n",
            "- [Recommended] Add a suffix ending ` END` to all completions [Y/n]: Y\n",
            "- [Recommended] Add a whitespace character to the beginning of the completion [Y/n]: Y\n",
            "\n",
            "\n",
            "Your data will be written to a new JSONL file. Proceed [Y/n]: Y\n",
            "\n",
            "Wrote modified file to `examples_prepared.jsonl`\n",
            "Feel free to take a look!\n",
            "\n",
            "Now use that file when fine-tuning:\n",
            "> openai api fine_tunes.create -t \"examples_prepared.jsonl\"\n",
            "\n",
            "After you’ve fine-tuned a model, remember that your prompt has to end with the indicator string `\\n\\n###\\n\\n` for the model to start generating completions, rather than continuing with the prompt. Make sure to include `stop=[\" END\"]` so that the generated texts ends at the expected place.\n",
            "Once your model starts training, it'll approximately take 2.5 minutes to train a `curie` model, and less for `ada` and `babbage`. Queue will approximately take half an hour per job ahead of you.\n"
          ]
        }
      ],
      "source": [
        "!openai tools fine_tunes.prepare_data -f examples.jsonl -q"
      ]
    },
    {
      "cell_type": "code",
      "execution_count": null,
      "metadata": {
        "id": "e9HETAZbbvUj"
      },
      "outputs": [],
      "source": [
        "import os\n",
        "os.environ[\"OPENAI_API_KEY\"] = pswd"
      ]
    },
    {
      "cell_type": "code",
      "execution_count": 37,
      "metadata": {
        "colab": {
          "base_uri": "https://localhost:8080/"
        },
        "id": "6_b6VHNDaq3F",
        "outputId": "731ca28d-f037-4a1a-e7b3-5412d2a691c8"
      },
      "outputs": [
        {
          "name": "stdout",
          "output_type": "stream",
          "text": [
            "Found potentially duplicated files with name 'examples_prepared.jsonl', purpose 'fine-tune' and size 1947 bytes\n",
            "file-fAfFLDOCmxVXiRMinUxzqH0e\n",
            "Enter file ID to reuse an already uploaded file, or an empty string to upload this file anyway: \n",
            "Upload progress: 100% 1.95k/1.95k [00:00<00:00, 2.21Mit/s]\n",
            "Uploaded file from examples_prepared.jsonl: file-B1zdsGeMxZAQqGfRMOtAKXDf\n",
            "Created fine-tune: ft-9kf23uQSoOxWLqVfIqwxcfeQ\n",
            "Streaming events until fine-tuning is complete...\n",
            "\n",
            "(Ctrl-C will interrupt the stream, but not cancel the fine-tune)\n",
            "[2023-05-15 03:35:17] Created fine-tune: ft-9kf23uQSoOxWLqVfIqwxcfeQ\n",
            "[2023-05-15 03:35:49] Fine-tune costs $0.08\n",
            "[2023-05-15 03:35:50] Fine-tune enqueued. Queue number: 0\n",
            "[2023-05-15 03:35:54] Fine-tune started\n",
            "\n"
          ]
        }
      ],
      "source": [
        "!openai api fine_tunes.create -t \"examples_prepared.jsonl\" -m \"davinci\""
      ]
    },
    {
      "cell_type": "code",
      "execution_count": 40,
      "metadata": {
        "colab": {
          "base_uri": "https://localhost:8080/"
        },
        "id": "MH3LZLu_cxIf",
        "outputId": "b17d5ab3-b0a2-4b98-860f-c13a6604bf84"
      },
      "outputs": [
        {
          "name": "stdout",
          "output_type": "stream",
          "text": [
            "{\n",
            "  \"created_at\": 1684121717,\n",
            "  \"events\": [\n",
            "    {\n",
            "      \"created_at\": 1684121717,\n",
            "      \"level\": \"info\",\n",
            "      \"message\": \"Created fine-tune: ft-9kf23uQSoOxWLqVfIqwxcfeQ\",\n",
            "      \"object\": \"fine-tune-event\"\n",
            "    },\n",
            "    {\n",
            "      \"created_at\": 1684121749,\n",
            "      \"level\": \"info\",\n",
            "      \"message\": \"Fine-tune costs $0.08\",\n",
            "      \"object\": \"fine-tune-event\"\n",
            "    },\n",
            "    {\n",
            "      \"created_at\": 1684121750,\n",
            "      \"level\": \"info\",\n",
            "      \"message\": \"Fine-tune enqueued. Queue number: 0\",\n",
            "      \"object\": \"fine-tune-event\"\n",
            "    },\n",
            "    {\n",
            "      \"created_at\": 1684121754,\n",
            "      \"level\": \"info\",\n",
            "      \"message\": \"Fine-tune started\",\n",
            "      \"object\": \"fine-tune-event\"\n",
            "    },\n",
            "    {\n",
            "      \"created_at\": 1684121872,\n",
            "      \"level\": \"info\",\n",
            "      \"message\": \"Completed epoch 1/4\",\n",
            "      \"object\": \"fine-tune-event\"\n",
            "    },\n",
            "    {\n",
            "      \"created_at\": 1684121874,\n",
            "      \"level\": \"info\",\n",
            "      \"message\": \"Completed epoch 2/4\",\n",
            "      \"object\": \"fine-tune-event\"\n",
            "    },\n",
            "    {\n",
            "      \"created_at\": 1684121876,\n",
            "      \"level\": \"info\",\n",
            "      \"message\": \"Completed epoch 3/4\",\n",
            "      \"object\": \"fine-tune-event\"\n",
            "    },\n",
            "    {\n",
            "      \"created_at\": 1684121878,\n",
            "      \"level\": \"info\",\n",
            "      \"message\": \"Completed epoch 4/4\",\n",
            "      \"object\": \"fine-tune-event\"\n",
            "    },\n",
            "    {\n",
            "      \"created_at\": 1684121919,\n",
            "      \"level\": \"info\",\n",
            "      \"message\": \"Uploaded model: davinci:ft-jounce-2023-05-15-03-38-39\",\n",
            "      \"object\": \"fine-tune-event\"\n",
            "    },\n",
            "    {\n",
            "      \"created_at\": 1684121920,\n",
            "      \"level\": \"info\",\n",
            "      \"message\": \"Uploaded result file: file-XE9kivG1lP07mI9c9w7WI6v0\",\n",
            "      \"object\": \"fine-tune-event\"\n",
            "    },\n",
            "    {\n",
            "      \"created_at\": 1684121920,\n",
            "      \"level\": \"info\",\n",
            "      \"message\": \"Fine-tune succeeded\",\n",
            "      \"object\": \"fine-tune-event\"\n",
            "    }\n",
            "  ],\n",
            "  \"fine_tuned_model\": \"davinci:ft-jounce-2023-05-15-03-38-39\",\n",
            "  \"hyperparams\": {\n",
            "    \"batch_size\": 1,\n",
            "    \"learning_rate_multiplier\": 0.1,\n",
            "    \"n_epochs\": 4,\n",
            "    \"prompt_loss_weight\": 0.01\n",
            "  },\n",
            "  \"id\": \"ft-9kf23uQSoOxWLqVfIqwxcfeQ\",\n",
            "  \"model\": \"davinci\",\n",
            "  \"object\": \"fine-tune\",\n",
            "  \"organization_id\": \"org-ZEOxK5dB4iULbHOhqDzysoqU\",\n",
            "  \"result_files\": [\n",
            "    {\n",
            "      \"bytes\": 987,\n",
            "      \"created_at\": 1684121920,\n",
            "      \"filename\": \"compiled_results.csv\",\n",
            "      \"id\": \"file-XE9kivG1lP07mI9c9w7WI6v0\",\n",
            "      \"object\": \"file\",\n",
            "      \"purpose\": \"fine-tune-results\",\n",
            "      \"status\": \"processed\",\n",
            "      \"status_details\": null\n",
            "    }\n",
            "  ],\n",
            "  \"status\": \"succeeded\",\n",
            "  \"training_files\": [\n",
            "    {\n",
            "      \"bytes\": 1947,\n",
            "      \"created_at\": 1684121717,\n",
            "      \"filename\": \"examples_prepared.jsonl\",\n",
            "      \"id\": \"file-B1zdsGeMxZAQqGfRMOtAKXDf\",\n",
            "      \"object\": \"file\",\n",
            "      \"purpose\": \"fine-tune\",\n",
            "      \"status\": \"processed\",\n",
            "      \"status_details\": null\n",
            "    }\n",
            "  ],\n",
            "  \"updated_at\": 1684121921,\n",
            "  \"validation_files\": []\n",
            "}\n"
          ]
        }
      ],
      "source": [
        "!openai api fine_tunes.get -i ft-9kf23uQSoOxWLqVfIqwxcfeQ"
      ]
    }
  ],
  "metadata": {
    "colab": {
      "provenance": []
    },
    "kernelspec": {
      "display_name": "Python 3",
      "name": "python3"
    },
    "language_info": {
      "name": "python"
    }
  },
  "nbformat": 4,
  "nbformat_minor": 0
}
